{
 "cells": [
  {
   "cell_type": "markdown",
   "id": "b6dc3c00-ccba-4ea9-b2db-e0684520cb29",
   "metadata": {},
   "source": [
    "# Project: Health Insurance Premium Prediction"
   ]
  },
  {
   "cell_type": "markdown",
   "id": "f6ae388a-5d0b-46b9-a487-b3623e64b07f",
   "metadata": {},
   "source": [
    "# INTRODUCTION"
   ]
  },
  {
   "cell_type": "markdown",
   "id": "ec338adf-fe25-43fd-8a0e-c7adc1d18e69",
   "metadata": {},
   "source": [
    "## PROBLEM STATEMENT"
   ]
  },
  {
   "cell_type": "markdown",
   "id": "509d9ece-2582-42e6-be2b-c490c6f76469",
   "metadata": {},
   "source": [
    "Health insurance premium is expensive in the United States. Many Americans are concerned about health insurance costs. Almost 40 percent of Americans would discard their health insurance altogether and chose to go uninsured instead of paying high premiums if the health insurance premium exceeded what they considered reasonable ([source](https://healthpayerintelligence.com/news/health-insurance-is-expensive-but-americans-intend-to-keep-their-plans-in-2023)). Hence, in this project, I am tasked to develop a model to help Americans to predict health insurance premium."
   ]
  },
  {
   "cell_type": "markdown",
   "id": "46a7b124-2948-4253-8b12-96c79a0fb9bf",
   "metadata": {},
   "source": [
    "## BACKGROUND"
   ]
  },
  {
   "cell_type": "markdown",
   "id": "1c0af365-002e-4e50-9bde-1668e6939c6e",
   "metadata": {},
   "source": [
    "Health insurance is a contract, represented by a policy, designed to help offset the costs of medical treatment by covering a portion of the professional and hospital fees incurred on the policyholders, who are most likely to be insureds. According to the U.S government’s health insurance exchange website HealthCare.gov, health insurance coverage comes in several forms aimed at meeting the varying needs of policyholders. These are:\n",
    "- Exclusive Provider Organization (EPO): services in this plan are covered only if the doctors, specialists, or hospitals are in the plan’s network – except in cases of emergency.\n",
    "- Health Maintenance Organization (HMO): coverage in this plan is limited to care from doctors who work for or are contracted with the HMO. Generally, policies do not cover out-of-network care except in an emergency. Likewise, plans may require that a policyholder to live or work in its service area to be eligible for coverage. Typically, HMOs provide integrated care and focus on prevention and wellness.\n",
    "- Point of Service (POS): payment in this plan is lesser if policyholders access doctors, hospitals, and other healthcare providers belonging to the plan’s network. Nonetheless, insured is required to get a referral from their primary care doctor for them to see a specialist.\n",
    "- Preferred Provider Organization (PPO): payment in this plan is lesser for healthcare if policyholders choose to get treatment from providers in the plan’s network. However, policyholders can pay additional cost to access doctors, hospitals, and providers outside of the network without a referral \n",
    "\n",
    "Under the healthcare law, insurance companies can only account for five factors when determining premiums. These are:\n",
    "- Age: health insurance premiums are higher for older people than for younger ones.\n",
    "- Location: health insurance rates may vary due to competition, state, local regulations, and cost of living.\n",
    "- Tobacco use: tobacco users pay higher health insurance premium compared to those who do not smoke.\n",
    "- Individual vs. family enrollment: plan that also covers a spouse and dependents are more costly than plan that does not cover spouse and dependents.\n",
    "- Plan category: plan categories Bronze, Silver, Gold, and Platinum have an effect on premium prices.\n",
    "\n",
    "According to the latest marketplace benchmark premiums from the Kaiser Family Foundation, health insurance premiums across the US cost an average of $438 monthly per person and this can be a steep price to pay for some American families ([source](https://www.insurancebusinessmag.com/us/news/healthcare/a-guide-to-finding-the-best-affordable-health-insurance-plan-422601.aspx#:~:text=Health%20insurance%20premiums%20across%20the,pay%20for%20some%20American%20families.))."
   ]
  },
  {
   "cell_type": "markdown",
   "id": "b9e8fe35-e476-4590-91c5-f093ee120bba",
   "metadata": {},
   "source": [
    "## Dataset"
   ]
  },
  {
   "cell_type": "markdown",
   "id": "c20e2602-92f4-4ebf-b4ad-bb7b1aa041fc",
   "metadata": {},
   "source": [
    "Dataset below is used for analysis and is obtained from [Kaggle](https://www.kaggle.com/datasets/mirichoi0218/insurance):\n",
    "\n",
    "| Dataset | Description |\n",
    "|---|---|\n",
    "| insurance.csv | Contains data relating to age of primary beneficiary, insurance contractor gender, body mass index (ideally 18.5 to 24.9), number of children covered by health insurance / number of dependents covered by health insurance, smoking status, beneficiary's residential area in the US, northeast, southeast, southwest, northwest; and individual medical costs billed by health insurance."
   ]
  },
  {
   "cell_type": "markdown",
   "id": "a050bd59-9fc1-497f-a9ab-a78852ca1e67",
   "metadata": {},
   "source": [
    "This dataset consists of 7 columns and 1,337 rows with health insurance records."
   ]
  },
  {
   "cell_type": "markdown",
   "id": "279c034a-41e6-46a2-9772-d309387e3c72",
   "metadata": {},
   "source": [
    "## TABLE OF CONTENTS"
   ]
  },
  {
   "cell_type": "markdown",
   "id": "a4d6bf26-a51d-4435-9ca2-9d11d37d01ea",
   "metadata": {},
   "source": [
    "[(1) Understanding Data](#1.-Understanding-Data) <br>\n",
    "[(2) Preprocessing](#2.-Preprocessing) <br>\n",
    "[(3) Modelling](#3.-Modelling)<br>\n",
    "[(4) Conclusion](#4.-Conclusion)<br>\n",
    "[(5) Recommendations](#5.-Recommendations)<br>"
   ]
  },
  {
   "cell_type": "markdown",
   "id": "fb31cf00-edf6-48f0-9883-67fa9e6ec7ab",
   "metadata": {},
   "source": [
    "### Import Libraries"
   ]
  },
  {
   "cell_type": "code",
   "execution_count": 1,
   "id": "96a2922f-cb18-4bac-863f-a1699d8b45fc",
   "metadata": {},
   "outputs": [],
   "source": [
    "# Import Libraries\n",
    "import pandas as pd\n",
    "import seaborn as sns\n",
    "import matplotlib.pyplot as plt\n",
    "import numpy as np\n",
    "import shap\n",
    "from sklearn.pipeline import make_pipeline\n",
    "from sklearn.preprocessing import StandardScaler\n",
    "from sklearn.model_selection import train_test_split, GridSearchCV\n",
    "from sklearn.dummy import DummyRegressor\n",
    "from sklearn.metrics import mean_squared_error\n",
    "from sklearn.linear_model import LinearRegression, Ridge, Lasso, ElasticNet\n",
    "from sklearn import metrics\n",
    "from sklearn.ensemble import RandomForestRegressor, ExtraTreesRegressor, GradientBoostingRegressor, AdaBoostRegressor\n",
    "from sklearn.tree import DecisionTreeRegressor\n",
    "from sklearn.pipeline import Pipeline"
   ]
  },
  {
   "cell_type": "markdown",
   "id": "31f45983-6400-46aa-a5ae-2bee04b3dd08",
   "metadata": {},
   "source": [
    "### Import Data"
   ]
  },
  {
   "cell_type": "code",
   "execution_count": 2,
   "id": "18776ef5-d214-427b-a693-eb63d6c9c2ed",
   "metadata": {},
   "outputs": [],
   "source": [
    "# Read data from csv.\n",
    "medical_dataframe = pd.read_csv(\"./datasets/insurance.csv\")"
   ]
  },
  {
   "cell_type": "markdown",
   "id": "ae0b2079-f4ff-43b2-b5de-ab04812837a8",
   "metadata": {},
   "source": [
    "# 1. Understanding Data"
   ]
  },
  {
   "cell_type": "markdown",
   "id": "fd695395-2d06-421e-9e39-1f409cb6c12f",
   "metadata": {},
   "source": [
    "### Data Overview"
   ]
  },
  {
   "cell_type": "code",
   "execution_count": 3,
   "id": "3df78fbc-2882-4c1b-887b-67660f122b6f",
   "metadata": {},
   "outputs": [
    {
     "name": "stdout",
     "output_type": "stream",
     "text": [
      "***************************************\n",
      "     Summary of Insurance Dataframe    \n",
      "***************************************\n",
      "<class 'pandas.core.frame.DataFrame'>\n",
      "RangeIndex: 1338 entries, 0 to 1337\n",
      "Data columns (total 7 columns):\n",
      " #   Column    Non-Null Count  Dtype  \n",
      "---  ------    --------------  -----  \n",
      " 0   age       1338 non-null   int64  \n",
      " 1   sex       1338 non-null   object \n",
      " 2   bmi       1338 non-null   float64\n",
      " 3   children  1338 non-null   int64  \n",
      " 4   smoker    1338 non-null   object \n",
      " 5   region    1338 non-null   object \n",
      " 6   charges   1338 non-null   float64\n",
      "dtypes: float64(2), int64(2), object(3)\n",
      "memory usage: 73.3+ KB\n"
     ]
    }
   ],
   "source": [
    "# Summary of dataFrame.\n",
    "print(\"***************************************\")\n",
    "print(\"     Summary of Insurance Dataframe    \")\n",
    "print(\"***************************************\")\n",
    "medical_dataframe.info()"
   ]
  },
  {
   "cell_type": "markdown",
   "id": "c925fa6c-244a-456f-921a-67761694ac71",
   "metadata": {},
   "source": [
    "**Observation**:\n",
    "- There are 7 columns and 1,338 rows in this dataframe.\n",
    "- There are 4 columns with numerical data (2 columns with int64 data type; and 2 columns with float64 data type) and 3 columns with categorical data.\n",
    "- There is no column with null / missing values."
   ]
  },
  {
   "cell_type": "code",
   "execution_count": 4,
   "id": "09c602c6-d7e8-484d-94c8-eae2145855de",
   "metadata": {},
   "outputs": [
    {
     "name": "stdout",
     "output_type": "stream",
     "text": [
      "Shape: (1338, 7)\n"
     ]
    }
   ],
   "source": [
    "# Print shape of dataframe.\n",
    "print(f\"Shape:\", medical_dataframe.shape)"
   ]
  },
  {
   "cell_type": "code",
   "execution_count": 5,
   "id": "17edb497-a692-4440-ad5e-90fcdd251219",
   "metadata": {},
   "outputs": [
    {
     "data": {
      "text/html": [
       "<div>\n",
       "<style scoped>\n",
       "    .dataframe tbody tr th:only-of-type {\n",
       "        vertical-align: middle;\n",
       "    }\n",
       "\n",
       "    .dataframe tbody tr th {\n",
       "        vertical-align: top;\n",
       "    }\n",
       "\n",
       "    .dataframe thead th {\n",
       "        text-align: right;\n",
       "    }\n",
       "</style>\n",
       "<table border=\"1\" class=\"dataframe\">\n",
       "  <thead>\n",
       "    <tr style=\"text-align: right;\">\n",
       "      <th></th>\n",
       "      <th>age</th>\n",
       "      <th>sex</th>\n",
       "      <th>bmi</th>\n",
       "      <th>children</th>\n",
       "      <th>smoker</th>\n",
       "      <th>region</th>\n",
       "      <th>charges</th>\n",
       "    </tr>\n",
       "  </thead>\n",
       "  <tbody>\n",
       "    <tr>\n",
       "      <th>0</th>\n",
       "      <td>19</td>\n",
       "      <td>female</td>\n",
       "      <td>27.900</td>\n",
       "      <td>0</td>\n",
       "      <td>yes</td>\n",
       "      <td>southwest</td>\n",
       "      <td>16884.92400</td>\n",
       "    </tr>\n",
       "    <tr>\n",
       "      <th>1</th>\n",
       "      <td>18</td>\n",
       "      <td>male</td>\n",
       "      <td>33.770</td>\n",
       "      <td>1</td>\n",
       "      <td>no</td>\n",
       "      <td>southeast</td>\n",
       "      <td>1725.55230</td>\n",
       "    </tr>\n",
       "    <tr>\n",
       "      <th>2</th>\n",
       "      <td>28</td>\n",
       "      <td>male</td>\n",
       "      <td>33.000</td>\n",
       "      <td>3</td>\n",
       "      <td>no</td>\n",
       "      <td>southeast</td>\n",
       "      <td>4449.46200</td>\n",
       "    </tr>\n",
       "    <tr>\n",
       "      <th>3</th>\n",
       "      <td>33</td>\n",
       "      <td>male</td>\n",
       "      <td>22.705</td>\n",
       "      <td>0</td>\n",
       "      <td>no</td>\n",
       "      <td>northwest</td>\n",
       "      <td>21984.47061</td>\n",
       "    </tr>\n",
       "    <tr>\n",
       "      <th>4</th>\n",
       "      <td>32</td>\n",
       "      <td>male</td>\n",
       "      <td>28.880</td>\n",
       "      <td>0</td>\n",
       "      <td>no</td>\n",
       "      <td>northwest</td>\n",
       "      <td>3866.85520</td>\n",
       "    </tr>\n",
       "  </tbody>\n",
       "</table>\n",
       "</div>"
      ],
      "text/plain": [
       "   age     sex     bmi  children smoker     region      charges\n",
       "0   19  female  27.900         0    yes  southwest  16884.92400\n",
       "1   18    male  33.770         1     no  southeast   1725.55230\n",
       "2   28    male  33.000         3     no  southeast   4449.46200\n",
       "3   33    male  22.705         0     no  northwest  21984.47061\n",
       "4   32    male  28.880         0     no  northwest   3866.85520"
      ]
     },
     "execution_count": 5,
     "metadata": {},
     "output_type": "execute_result"
    }
   ],
   "source": [
    "# Displays first 5 rows of dataframe.\n",
    "medical_dataframe.head()"
   ]
  },
  {
   "cell_type": "code",
   "execution_count": 6,
   "id": "ef2e8c15-69d2-4acd-ae0a-e9c6f9cfbd73",
   "metadata": {
    "tags": []
   },
   "outputs": [
    {
     "data": {
      "text/html": [
       "<div>\n",
       "<style scoped>\n",
       "    .dataframe tbody tr th:only-of-type {\n",
       "        vertical-align: middle;\n",
       "    }\n",
       "\n",
       "    .dataframe tbody tr th {\n",
       "        vertical-align: top;\n",
       "    }\n",
       "\n",
       "    .dataframe thead th {\n",
       "        text-align: right;\n",
       "    }\n",
       "</style>\n",
       "<table border=\"1\" class=\"dataframe\">\n",
       "  <thead>\n",
       "    <tr style=\"text-align: right;\">\n",
       "      <th></th>\n",
       "      <th>age</th>\n",
       "      <th>sex</th>\n",
       "      <th>bmi</th>\n",
       "      <th>children</th>\n",
       "      <th>smoker</th>\n",
       "      <th>region</th>\n",
       "      <th>charges</th>\n",
       "    </tr>\n",
       "  </thead>\n",
       "  <tbody>\n",
       "    <tr>\n",
       "      <th>1333</th>\n",
       "      <td>50</td>\n",
       "      <td>male</td>\n",
       "      <td>30.97</td>\n",
       "      <td>3</td>\n",
       "      <td>no</td>\n",
       "      <td>northwest</td>\n",
       "      <td>10600.5483</td>\n",
       "    </tr>\n",
       "    <tr>\n",
       "      <th>1334</th>\n",
       "      <td>18</td>\n",
       "      <td>female</td>\n",
       "      <td>31.92</td>\n",
       "      <td>0</td>\n",
       "      <td>no</td>\n",
       "      <td>northeast</td>\n",
       "      <td>2205.9808</td>\n",
       "    </tr>\n",
       "    <tr>\n",
       "      <th>1335</th>\n",
       "      <td>18</td>\n",
       "      <td>female</td>\n",
       "      <td>36.85</td>\n",
       "      <td>0</td>\n",
       "      <td>no</td>\n",
       "      <td>southeast</td>\n",
       "      <td>1629.8335</td>\n",
       "    </tr>\n",
       "    <tr>\n",
       "      <th>1336</th>\n",
       "      <td>21</td>\n",
       "      <td>female</td>\n",
       "      <td>25.80</td>\n",
       "      <td>0</td>\n",
       "      <td>no</td>\n",
       "      <td>southwest</td>\n",
       "      <td>2007.9450</td>\n",
       "    </tr>\n",
       "    <tr>\n",
       "      <th>1337</th>\n",
       "      <td>61</td>\n",
       "      <td>female</td>\n",
       "      <td>29.07</td>\n",
       "      <td>0</td>\n",
       "      <td>yes</td>\n",
       "      <td>northwest</td>\n",
       "      <td>29141.3603</td>\n",
       "    </tr>\n",
       "  </tbody>\n",
       "</table>\n",
       "</div>"
      ],
      "text/plain": [
       "      age     sex    bmi  children smoker     region     charges\n",
       "1333   50    male  30.97         3     no  northwest  10600.5483\n",
       "1334   18  female  31.92         0     no  northeast   2205.9808\n",
       "1335   18  female  36.85         0     no  southeast   1629.8335\n",
       "1336   21  female  25.80         0     no  southwest   2007.9450\n",
       "1337   61  female  29.07         0    yes  northwest  29141.3603"
      ]
     },
     "execution_count": 6,
     "metadata": {},
     "output_type": "execute_result"
    }
   ],
   "source": [
    "# Displays last 5 rows of dataframe.\n",
    "medical_dataframe.tail()"
   ]
  },
  {
   "cell_type": "code",
   "execution_count": 7,
   "id": "863f732c-4603-4eae-a1e6-be433138344f",
   "metadata": {},
   "outputs": [
    {
     "data": {
      "text/html": [
       "<div>\n",
       "<style scoped>\n",
       "    .dataframe tbody tr th:only-of-type {\n",
       "        vertical-align: middle;\n",
       "    }\n",
       "\n",
       "    .dataframe tbody tr th {\n",
       "        vertical-align: top;\n",
       "    }\n",
       "\n",
       "    .dataframe thead th {\n",
       "        text-align: right;\n",
       "    }\n",
       "</style>\n",
       "<table border=\"1\" class=\"dataframe\">\n",
       "  <thead>\n",
       "    <tr style=\"text-align: right;\">\n",
       "      <th></th>\n",
       "      <th>count</th>\n",
       "      <th>mean</th>\n",
       "      <th>std</th>\n",
       "      <th>min</th>\n",
       "      <th>25%</th>\n",
       "      <th>50%</th>\n",
       "      <th>75%</th>\n",
       "      <th>max</th>\n",
       "    </tr>\n",
       "  </thead>\n",
       "  <tbody>\n",
       "    <tr>\n",
       "      <th>age</th>\n",
       "      <td>1338.0</td>\n",
       "      <td>39.207025</td>\n",
       "      <td>14.049960</td>\n",
       "      <td>18.0000</td>\n",
       "      <td>27.00000</td>\n",
       "      <td>39.000</td>\n",
       "      <td>51.000000</td>\n",
       "      <td>64.00000</td>\n",
       "    </tr>\n",
       "    <tr>\n",
       "      <th>bmi</th>\n",
       "      <td>1338.0</td>\n",
       "      <td>30.663397</td>\n",
       "      <td>6.098187</td>\n",
       "      <td>15.9600</td>\n",
       "      <td>26.29625</td>\n",
       "      <td>30.400</td>\n",
       "      <td>34.693750</td>\n",
       "      <td>53.13000</td>\n",
       "    </tr>\n",
       "    <tr>\n",
       "      <th>children</th>\n",
       "      <td>1338.0</td>\n",
       "      <td>1.094918</td>\n",
       "      <td>1.205493</td>\n",
       "      <td>0.0000</td>\n",
       "      <td>0.00000</td>\n",
       "      <td>1.000</td>\n",
       "      <td>2.000000</td>\n",
       "      <td>5.00000</td>\n",
       "    </tr>\n",
       "    <tr>\n",
       "      <th>charges</th>\n",
       "      <td>1338.0</td>\n",
       "      <td>13270.422265</td>\n",
       "      <td>12110.011237</td>\n",
       "      <td>1121.8739</td>\n",
       "      <td>4740.28715</td>\n",
       "      <td>9382.033</td>\n",
       "      <td>16639.912515</td>\n",
       "      <td>63770.42801</td>\n",
       "    </tr>\n",
       "  </tbody>\n",
       "</table>\n",
       "</div>"
      ],
      "text/plain": [
       "           count          mean           std        min         25%       50%  \\\n",
       "age       1338.0     39.207025     14.049960    18.0000    27.00000    39.000   \n",
       "bmi       1338.0     30.663397      6.098187    15.9600    26.29625    30.400   \n",
       "children  1338.0      1.094918      1.205493     0.0000     0.00000     1.000   \n",
       "charges   1338.0  13270.422265  12110.011237  1121.8739  4740.28715  9382.033   \n",
       "\n",
       "                   75%          max  \n",
       "age          51.000000     64.00000  \n",
       "bmi          34.693750     53.13000  \n",
       "children      2.000000      5.00000  \n",
       "charges   16639.912515  63770.42801  "
      ]
     },
     "execution_count": 7,
     "metadata": {},
     "output_type": "execute_result"
    }
   ],
   "source": [
    "# Displays summary of dataframe statistics.\n",
    "medical_dataframe.describe().T"
   ]
  },
  {
   "cell_type": "markdown",
   "id": "d33f73a9-19d0-4431-8c94-7e4524c7a38d",
   "metadata": {},
   "source": [
    "Observation:\n",
    "- Column `charges` maximum values is at least 3 time higher than its 75th percentile. This will be investigated later to check for outlier."
   ]
  },
  {
   "cell_type": "markdown",
   "id": "e6c4e9ec-4849-4cad-94dd-37390a9f56cd",
   "metadata": {},
   "source": [
    "### Check for Duplicate Values"
   ]
  },
  {
   "cell_type": "code",
   "execution_count": 8,
   "id": "fa218620-4428-4a16-ac35-897450d9d632",
   "metadata": {},
   "outputs": [
    {
     "name": "stdout",
     "output_type": "stream",
     "text": [
      "Observation:\n",
      "There is record with duplicate value.\n"
     ]
    }
   ],
   "source": [
    "# Find duplicate rows across all columns.\n",
    "duplicate_rows = medical_dataframe[medical_dataframe.duplicated()]\n",
    "\n",
    "print(\"Observation:\")\n",
    "\n",
    "# Check if there is duplicate record and print respective message accordingly.\n",
    "if duplicate_rows.empty:\n",
    "    print(\"There is no record with duplicate value.\")\n",
    "else:\n",
    "    print(\"There is record with duplicate value.\")"
   ]
  },
  {
   "cell_type": "markdown",
   "id": "fb066a76-22d0-4fad-bdaa-cc5cd028907c",
   "metadata": {},
   "source": [
    "### Check for Unique Values"
   ]
  },
  {
   "cell_type": "code",
   "execution_count": 9,
   "id": "99cb066b-c465-4d91-9426-94e3510f9f00",
   "metadata": {},
   "outputs": [
    {
     "name": "stdout",
     "output_type": "stream",
     "text": [
      "********************************************\n",
      "Number of unique values in column region: 4 \n",
      "\n",
      "      region\n",
      "0  southwest\n",
      "1  southeast\n",
      "2  northwest\n",
      "3  northeast \n",
      "\n",
      "********************************************\n",
      "Number of unique values in column sex: 2 \n",
      "\n",
      "      sex\n",
      "0  female\n",
      "1    male \n",
      "\n",
      "********************************************\n",
      "Number of unique values in column smoker: 2 \n",
      "\n",
      "  smoker\n",
      "0    yes\n",
      "1     no \n",
      "\n",
      "********************************************\n"
     ]
    }
   ],
   "source": [
    "# Store columns with object as data type and then sort the columns in ascending order.\n",
    "object_columns = medical_dataframe.select_dtypes(include=[\"object\"]).columns.sort_values()\n",
    "\n",
    "# Convert to list.\n",
    "object_columns = list(object_columns)\n",
    "\n",
    "# Check number of unique values in each column of object_columns list.\n",
    "print(\"********************************************\")\n",
    "for column_index in range(len(object_columns)):\n",
    "    unique_value = medical_dataframe[object_columns[column_index]].unique()\n",
    "    print(f\"Number of unique values in column {object_columns[column_index]}:\", len(unique_value), \"\\n\")\n",
    "    unique_value = pd.DataFrame(unique_value, columns = [object_columns[column_index]])\n",
    "    print(unique_value, \"\\n\")\n",
    "    print(\"********************************************\")"
   ]
  },
  {
   "cell_type": "code",
   "execution_count": 10,
   "id": "98e41981-e0bc-4b50-b47b-cdad08c0f1c2",
   "metadata": {},
   "outputs": [],
   "source": [
    "# Check, sort and export number of unique values present in each column of the dataframe to csv file.\n",
    "count_of_unique_values = medical_dataframe.nunique().sort_values(ascending = False).to_csv(\"./datasets/count_of_unique_values.csv\", index = True)"
   ]
  },
  {
   "cell_type": "markdown",
   "id": "79402133-8fb3-4f3d-b68c-4d60b10dbab9",
   "metadata": {},
   "source": [
    "Histogram below was created using Tableau with data from count_of_unique_values csv file."
   ]
  },
  {
   "cell_type": "markdown",
   "id": "3a861efb-6048-4bd5-9e21-a5ad3e146c4f",
   "metadata": {},
   "source": [
    "![image.png](./images/health_insurance_unique_values.png)"
   ]
  },
  {
   "cell_type": "markdown",
   "id": "78391a07-c491-4d6e-8651-e48505f4a4e9",
   "metadata": {},
   "source": [
    "**Observations**:\n",
    "- Column `charges` has 1,337 unique values.\n",
    "- Count of unique values for categorical columns ranges from 2 to 4."
   ]
  },
  {
   "cell_type": "markdown",
   "id": "29b33f12-dd3d-4693-b072-64c78d8f01f9",
   "metadata": {},
   "source": [
    "### Check for Outliers"
   ]
  },
  {
   "cell_type": "code",
   "execution_count": 11,
   "id": "cd4e6a80-b8f9-44d6-9862-a3b3deea8c42",
   "metadata": {},
   "outputs": [],
   "source": [
    "# Function to create boxplot and histogram.\n",
    "def boxplot_histplot(dataframe, number_of_rows, number_of_columns, data_type):\n",
    "\n",
    "    # Create a list to store object type.\n",
    "    data_type_list = data_type\n",
    "    \n",
    "    # Create an object to store numerical columns.\n",
    "    all_columns = dataframe.select_dtypes(include= data_type_list).columns\n",
    "\n",
    "    # Set figure-level attributes as (15, 25).\n",
    "    fig, ax = plt.subplots(number_of_rows, number_of_columns, figsize = (15, 20))\n",
    "\n",
    "    # Loop through all numerical columns.\n",
    "    for column_index in range(len(all_columns)):\n",
    "        \n",
    "        # Draw box plot.\n",
    "        sns.boxplot(data = dataframe, x = all_columns[column_index], ax = ax[column_index,0], color='skyblue')\n",
    "        \n",
    "        # Draw histogram.\n",
    "        sns.histplot(dataframe[all_columns[column_index]], ax = ax[column_index,1], color='skyblue')\n",
    "\n",
    "    # Tight_layout automatically adjusts subplot params so that the subplots fit in to the figure area. \n",
    "    plt.tight_layout()"
   ]
  },
  {
   "cell_type": "markdown",
   "id": "56fb14ad-3c67-4a5b-a451-acddf6f1c814",
   "metadata": {},
   "source": [
    "**Numerical Columns**"
   ]
  },
  {
   "cell_type": "code",
   "execution_count": 12,
   "id": "b0a6d5b9-e8a8-41ea-bfce-2cc4e1204bce",
   "metadata": {},
   "outputs": [
    {
     "data": {
      "image/png": "[encoded data removed]",
      "text/plain": [
       "<Figure size 1080x1440 with 8 Axes>"
      ]
     },
     "metadata": {
      "needs_background": "light"
     },
     "output_type": "display_data"
    }
   ],
   "source": [
    "# Draw box plot and histogram for all numerical columns.\n",
    "boxplot_histplot(dataframe = medical_dataframe, number_of_rows = 4, number_of_columns = 2, data_type = [\"float64\", \"int64\"])"
   ]
  },
  {
   "cell_type": "markdown",
   "id": "2a4f97d5-592a-4e70-bde5-1f53fabd2023",
   "metadata": {},
   "source": [
    "**Observations**:\n",
    "- Columns `age`, `bmi`, `children` and `charges` are skewed to right.\n",
    "- Both columns `bmi` and `charges` have outliers."
   ]
  },
  {
   "cell_type": "markdown",
   "id": "346a8c8b-2a85-43bb-9bbc-c99fcdd4725f",
   "metadata": {},
   "source": [
    "**Categorical Columns**"
   ]
  },
  {
   "cell_type": "code",
   "execution_count": 13,
   "id": "f6f99d94-71c3-4fec-ab7b-9418a3d4b9df",
   "metadata": {},
   "outputs": [],
   "source": [
    "# Store columns with object as data type.\n",
    "object_columns = medical_dataframe.select_dtypes(include=['object']).columns\n",
    "\n",
    "# Sort the columns in ascending order.\n",
    "object_columns = object_columns.sort_values()\n",
    "\n",
    "# Convert to list.\n",
    "object_columns = list(object_columns)\n",
    "\n",
    "# Loop through to count frequency of categories in each column of object_columns list.\n",
    "for column_index in range(len(object_columns)):\n",
    "    # Count frequency of categories in each column and assign to variable \"value_count\"\n",
    "    value_count = medical_dataframe[object_columns[column_index]].value_counts()\n",
    "    # Convert variable \"value_count\" to dataframe.\n",
    "    value_count = pd.DataFrame(value_count, columns=[object_columns[column_index]])\n",
    "    # Export dataframe to csv file.\n",
    "    value_count = value_count.to_csv('./datasets/value_count_' + str(object_columns[column_index]) + '.csv', index = True) "
   ]
  },
  {
   "cell_type": "markdown",
   "id": "d11856c7-b2d7-487d-97b9-4d6b02ce63f0",
   "metadata": {},
   "source": [
    "Histograms below were created using Tableau."
   ]
  },
  {
   "cell_type": "markdown",
   "id": "103bc1e7-f2f6-4715-b79f-4b13d5f6d1a5",
   "metadata": {},
   "source": [
    "![image.png](./images/health_insurance_categorical_count.png)"
   ]
  },
  {
   "cell_type": "markdown",
   "id": "df23e89f-29ec-4f03-a5d7-7ecc67478085",
   "metadata": {},
   "source": [
    "**Observations**:\n",
    "- Male's count is slightly higher than that of female.\n",
    "- One-fifth of the insureds are smokers.\n",
    "- Majority of the insureds reside in southeat region."
   ]
  },
  {
   "cell_type": "markdown",
   "id": "6e5731db-f937-43ab-8a67-02d983a4809c",
   "metadata": {},
   "source": [
    "### Check for Multicollinearity"
   ]
  },
  {
   "cell_type": "markdown",
   "id": "da04743d-a1d1-44df-a383-fd8bd0050216",
   "metadata": {},
   "source": [
    "Numerical columns are investigated for multicollinearity."
   ]
  },
  {
   "cell_type": "code",
   "execution_count": 14,
   "id": "56d42e27-4e2d-4486-9194-c89974589aaa",
   "metadata": {},
   "outputs": [],
   "source": [
    "# Function to draw correlation heatmap.\n",
    "def correlation_heatmap(dataframe):\n",
    "    \n",
    "    # Establish size of figure.\n",
    "    plt.figure(figsize=(15,15))\n",
    "\n",
    "    # Find correlation of each column in dataframe.\n",
    "    corr = dataframe.corr()\n",
    "\n",
    "    # Set up mask to be \"True\" in the upper triangle.\n",
    "    mask = np.zeros_like(corr)\n",
    "    mask[np.triu_indices_from(mask)] = True\n",
    "\n",
    "    # Create correlation heatmap, and masking the upper triangle for dataframe Test.\n",
    "    sns.heatmap(corr, mask = mask, annot=True, cmap='Blues', vmin=-1, vmax=1)\n",
    "    plt.title('Correlation between Numerical Features', fontsize=10);"
   ]
  },
  {
   "cell_type": "code",
   "execution_count": 15,
   "id": "4e5193a8-bd8b-43a7-9bbf-3fa5157a4648",
   "metadata": {},
   "outputs": [
    {
     "data": {
      "image/png": "[encoded data removed]",
      "text/plain": [
       "<Figure size 1080x1080 with 2 Axes>"
      ]
     },
     "metadata": {
      "needs_background": "light"
     },
     "output_type": "display_data"
    }
   ],
   "source": [
    "# Draw correlation heatmap.\n",
    "correlation_heatmap(dataframe = medical_dataframe)"
   ]
  },
  {
   "cell_type": "markdown",
   "id": "db415b1f-f264-4264-be5a-db8ca249ddd6",
   "metadata": {},
   "source": [
    "**Observation**:\n",
    "- Based on Pearson's correlation coefficient ([source](https://www.statisticssolutions.com/free-resources/directory-of-statistical-analyses/pearsons-correlation-coefficient)), there is no cluster with strong positive correlation (coefficient is more than 0.5).     "
   ]
  },
  {
   "cell_type": "markdown",
   "id": "426e148d-0e7f-4454-b857-da52783218c9",
   "metadata": {},
   "source": [
    "# 2. Preprocessing"
   ]
  },
  {
   "cell_type": "markdown",
   "id": "2d60fa55-702b-46ed-b84c-7e36594a3d89",
   "metadata": {},
   "source": [
    "## Feature Engineering"
   ]
  },
  {
   "cell_type": "markdown",
   "id": "02858615-6d7f-4daf-8205-b1de91cec0f5",
   "metadata": {},
   "source": [
    "### Create New Feature"
   ]
  },
  {
   "cell_type": "markdown",
   "id": "ce009f76-1a10-45e0-95d2-e243be4d143f",
   "metadata": {},
   "source": [
    "New feature, `bmi_health_risk`, will be created to indicate if the insured bmi is at risk based on Healthhub BMI ranges ([source](https://www.healthhub.sg/live-healthy/410/Healthy%20Weight))."
   ]
  },
  {
   "cell_type": "code",
   "execution_count": 16,
   "id": "894a8881-f946-4475-81ad-2ce85c313de6",
   "metadata": {},
   "outputs": [
    {
     "data": {
      "text/html": [
       "<div>\n",
       "<style scoped>\n",
       "    .dataframe tbody tr th:only-of-type {\n",
       "        vertical-align: middle;\n",
       "    }\n",
       "\n",
       "    .dataframe tbody tr th {\n",
       "        vertical-align: top;\n",
       "    }\n",
       "\n",
       "    .dataframe thead th {\n",
       "        text-align: right;\n",
       "    }\n",
       "</style>\n",
       "<table border=\"1\" class=\"dataframe\">\n",
       "  <thead>\n",
       "    <tr style=\"text-align: right;\">\n",
       "      <th></th>\n",
       "      <th>age</th>\n",
       "      <th>sex</th>\n",
       "      <th>bmi</th>\n",
       "      <th>children</th>\n",
       "      <th>smoker</th>\n",
       "      <th>region</th>\n",
       "      <th>charges</th>\n",
       "      <th>bmi_health_risk</th>\n",
       "    </tr>\n",
       "  </thead>\n",
       "  <tbody>\n",
       "    <tr>\n",
       "      <th>0</th>\n",
       "      <td>19</td>\n",
       "      <td>female</td>\n",
       "      <td>27.900</td>\n",
       "      <td>0</td>\n",
       "      <td>yes</td>\n",
       "      <td>southwest</td>\n",
       "      <td>16884.92400</td>\n",
       "      <td>high</td>\n",
       "    </tr>\n",
       "    <tr>\n",
       "      <th>1</th>\n",
       "      <td>18</td>\n",
       "      <td>male</td>\n",
       "      <td>33.770</td>\n",
       "      <td>1</td>\n",
       "      <td>no</td>\n",
       "      <td>southeast</td>\n",
       "      <td>1725.55230</td>\n",
       "      <td>high</td>\n",
       "    </tr>\n",
       "    <tr>\n",
       "      <th>2</th>\n",
       "      <td>28</td>\n",
       "      <td>male</td>\n",
       "      <td>33.000</td>\n",
       "      <td>3</td>\n",
       "      <td>no</td>\n",
       "      <td>southeast</td>\n",
       "      <td>4449.46200</td>\n",
       "      <td>high</td>\n",
       "    </tr>\n",
       "    <tr>\n",
       "      <th>3</th>\n",
       "      <td>33</td>\n",
       "      <td>male</td>\n",
       "      <td>22.705</td>\n",
       "      <td>0</td>\n",
       "      <td>no</td>\n",
       "      <td>northwest</td>\n",
       "      <td>21984.47061</td>\n",
       "      <td>normal</td>\n",
       "    </tr>\n",
       "    <tr>\n",
       "      <th>4</th>\n",
       "      <td>32</td>\n",
       "      <td>male</td>\n",
       "      <td>28.880</td>\n",
       "      <td>0</td>\n",
       "      <td>no</td>\n",
       "      <td>northwest</td>\n",
       "      <td>3866.85520</td>\n",
       "      <td>high</td>\n",
       "    </tr>\n",
       "    <tr>\n",
       "      <th>...</th>\n",
       "      <td>...</td>\n",
       "      <td>...</td>\n",
       "      <td>...</td>\n",
       "      <td>...</td>\n",
       "      <td>...</td>\n",
       "      <td>...</td>\n",
       "      <td>...</td>\n",
       "      <td>...</td>\n",
       "    </tr>\n",
       "    <tr>\n",
       "      <th>1333</th>\n",
       "      <td>50</td>\n",
       "      <td>male</td>\n",
       "      <td>30.970</td>\n",
       "      <td>3</td>\n",
       "      <td>no</td>\n",
       "      <td>northwest</td>\n",
       "      <td>10600.54830</td>\n",
       "      <td>high</td>\n",
       "    </tr>\n",
       "    <tr>\n",
       "      <th>1334</th>\n",
       "      <td>18</td>\n",
       "      <td>female</td>\n",
       "      <td>31.920</td>\n",
       "      <td>0</td>\n",
       "      <td>no</td>\n",
       "      <td>northeast</td>\n",
       "      <td>2205.98080</td>\n",
       "      <td>high</td>\n",
       "    </tr>\n",
       "    <tr>\n",
       "      <th>1335</th>\n",
       "      <td>18</td>\n",
       "      <td>female</td>\n",
       "      <td>36.850</td>\n",
       "      <td>0</td>\n",
       "      <td>no</td>\n",
       "      <td>southeast</td>\n",
       "      <td>1629.83350</td>\n",
       "      <td>high</td>\n",
       "    </tr>\n",
       "    <tr>\n",
       "      <th>1336</th>\n",
       "      <td>21</td>\n",
       "      <td>female</td>\n",
       "      <td>25.800</td>\n",
       "      <td>0</td>\n",
       "      <td>no</td>\n",
       "      <td>southwest</td>\n",
       "      <td>2007.94500</td>\n",
       "      <td>moderate</td>\n",
       "    </tr>\n",
       "    <tr>\n",
       "      <th>1337</th>\n",
       "      <td>61</td>\n",
       "      <td>female</td>\n",
       "      <td>29.070</td>\n",
       "      <td>0</td>\n",
       "      <td>yes</td>\n",
       "      <td>northwest</td>\n",
       "      <td>29141.36030</td>\n",
       "      <td>high</td>\n",
       "    </tr>\n",
       "  </tbody>\n",
       "</table>\n",
       "<p>1338 rows × 8 columns</p>\n",
       "</div>"
      ],
      "text/plain": [
       "      age     sex     bmi  children smoker     region      charges  \\\n",
       "0      19  female  27.900         0    yes  southwest  16884.92400   \n",
       "1      18    male  33.770         1     no  southeast   1725.55230   \n",
       "2      28    male  33.000         3     no  southeast   4449.46200   \n",
       "3      33    male  22.705         0     no  northwest  21984.47061   \n",
       "4      32    male  28.880         0     no  northwest   3866.85520   \n",
       "...   ...     ...     ...       ...    ...        ...          ...   \n",
       "1333   50    male  30.970         3     no  northwest  10600.54830   \n",
       "1334   18  female  31.920         0     no  northeast   2205.98080   \n",
       "1335   18  female  36.850         0     no  southeast   1629.83350   \n",
       "1336   21  female  25.800         0     no  southwest   2007.94500   \n",
       "1337   61  female  29.070         0    yes  northwest  29141.36030   \n",
       "\n",
       "     bmi_health_risk  \n",
       "0               high  \n",
       "1               high  \n",
       "2               high  \n",
       "3             normal  \n",
       "4               high  \n",
       "...              ...  \n",
       "1333            high  \n",
       "1334            high  \n",
       "1335            high  \n",
       "1336        moderate  \n",
       "1337            high  \n",
       "\n",
       "[1338 rows x 8 columns]"
      ]
     },
     "execution_count": 16,
     "metadata": {},
     "output_type": "execute_result"
    }
   ],
   "source": [
    "col         = 'bmi'\n",
    "conditions  = [medical_dataframe[col] >= 27.5, (medical_dataframe[col] < 27.5) & (medical_dataframe[col]>= 23), (medical_dataframe[col] < 23) & (medical_dataframe[col]>= 18.5), (medical_dataframe[col] < 18.4) & (medical_dataframe[col]>= 0)]\n",
    "risk        = [ \"high\", 'moderate', 'normal', 'deficiency']\n",
    "medical_dataframe[\"bmi_health_risk\"] = np.select(conditions, risk, default=np.nan)\n",
    "medical_dataframe"
   ]
  },
  {
   "cell_type": "code",
   "execution_count": 17,
   "id": "f2ea3699-f5e1-4beb-af27-b9c492053998",
   "metadata": {},
   "outputs": [],
   "source": [
    "# Convert categorical data to numerical data using get_dummies.\n",
    "# Set drop_first = True to exclude dummy variable for the first category of the variable.\n",
    "medical_dataframe_dummified = pd.get_dummies(medical_dataframe, columns = ['sex', 'smoker', 'region', 'bmi_health_risk'], drop_first = True)"
   ]
  },
  {
   "cell_type": "code",
   "execution_count": 18,
   "id": "861323ac-4a95-4cb6-83f3-48cb555a1a6e",
   "metadata": {},
   "outputs": [
    {
     "data": {
      "text/html": [
       "<div>\n",
       "<style scoped>\n",
       "    .dataframe tbody tr th:only-of-type {\n",
       "        vertical-align: middle;\n",
       "    }\n",
       "\n",
       "    .dataframe tbody tr th {\n",
       "        vertical-align: top;\n",
       "    }\n",
       "\n",
       "    .dataframe thead th {\n",
       "        text-align: right;\n",
       "    }\n",
       "</style>\n",
       "<table border=\"1\" class=\"dataframe\">\n",
       "  <thead>\n",
       "    <tr style=\"text-align: right;\">\n",
       "      <th></th>\n",
       "      <th>age</th>\n",
       "      <th>bmi</th>\n",
       "      <th>children</th>\n",
       "      <th>charges</th>\n",
       "      <th>sex_male</th>\n",
       "      <th>smoker_yes</th>\n",
       "      <th>region_northwest</th>\n",
       "      <th>region_southeast</th>\n",
       "      <th>region_southwest</th>\n",
       "      <th>bmi_health_risk_high</th>\n",
       "      <th>bmi_health_risk_moderate</th>\n",
       "      <th>bmi_health_risk_normal</th>\n",
       "    </tr>\n",
       "  </thead>\n",
       "  <tbody>\n",
       "    <tr>\n",
       "      <th>0</th>\n",
       "      <td>19</td>\n",
       "      <td>27.900</td>\n",
       "      <td>0</td>\n",
       "      <td>16884.92400</td>\n",
       "      <td>0</td>\n",
       "      <td>1</td>\n",
       "      <td>0</td>\n",
       "      <td>0</td>\n",
       "      <td>1</td>\n",
       "      <td>1</td>\n",
       "      <td>0</td>\n",
       "      <td>0</td>\n",
       "    </tr>\n",
       "    <tr>\n",
       "      <th>1</th>\n",
       "      <td>18</td>\n",
       "      <td>33.770</td>\n",
       "      <td>1</td>\n",
       "      <td>1725.55230</td>\n",
       "      <td>1</td>\n",
       "      <td>0</td>\n",
       "      <td>0</td>\n",
       "      <td>1</td>\n",
       "      <td>0</td>\n",
       "      <td>1</td>\n",
       "      <td>0</td>\n",
       "      <td>0</td>\n",
       "    </tr>\n",
       "    <tr>\n",
       "      <th>2</th>\n",
       "      <td>28</td>\n",
       "      <td>33.000</td>\n",
       "      <td>3</td>\n",
       "      <td>4449.46200</td>\n",
       "      <td>1</td>\n",
       "      <td>0</td>\n",
       "      <td>0</td>\n",
       "      <td>1</td>\n",
       "      <td>0</td>\n",
       "      <td>1</td>\n",
       "      <td>0</td>\n",
       "      <td>0</td>\n",
       "    </tr>\n",
       "    <tr>\n",
       "      <th>3</th>\n",
       "      <td>33</td>\n",
       "      <td>22.705</td>\n",
       "      <td>0</td>\n",
       "      <td>21984.47061</td>\n",
       "      <td>1</td>\n",
       "      <td>0</td>\n",
       "      <td>1</td>\n",
       "      <td>0</td>\n",
       "      <td>0</td>\n",
       "      <td>0</td>\n",
       "      <td>0</td>\n",
       "      <td>1</td>\n",
       "    </tr>\n",
       "    <tr>\n",
       "      <th>4</th>\n",
       "      <td>32</td>\n",
       "      <td>28.880</td>\n",
       "      <td>0</td>\n",
       "      <td>3866.85520</td>\n",
       "      <td>1</td>\n",
       "      <td>0</td>\n",
       "      <td>1</td>\n",
       "      <td>0</td>\n",
       "      <td>0</td>\n",
       "      <td>1</td>\n",
       "      <td>0</td>\n",
       "      <td>0</td>\n",
       "    </tr>\n",
       "  </tbody>\n",
       "</table>\n",
       "</div>"
      ],
      "text/plain": [
       "   age     bmi  children      charges  sex_male  smoker_yes  region_northwest  \\\n",
       "0   19  27.900         0  16884.92400         0           1                 0   \n",
       "1   18  33.770         1   1725.55230         1           0                 0   \n",
       "2   28  33.000         3   4449.46200         1           0                 0   \n",
       "3   33  22.705         0  21984.47061         1           0                 1   \n",
       "4   32  28.880         0   3866.85520         1           0                 1   \n",
       "\n",
       "   region_southeast  region_southwest  bmi_health_risk_high  \\\n",
       "0                 0                 1                     1   \n",
       "1                 1                 0                     1   \n",
       "2                 1                 0                     1   \n",
       "3                 0                 0                     0   \n",
       "4                 0                 0                     1   \n",
       "\n",
       "   bmi_health_risk_moderate  bmi_health_risk_normal  \n",
       "0                         0                       0  \n",
       "1                         0                       0  \n",
       "2                         0                       0  \n",
       "3                         0                       1  \n",
       "4                         0                       0  "
      ]
     },
     "execution_count": 18,
     "metadata": {},
     "output_type": "execute_result"
    }
   ],
   "source": [
    "# Displays first 5 rows of dataframe.\n",
    "medical_dataframe_dummified.head()"
   ]
  },
  {
   "cell_type": "code",
   "execution_count": 19,
   "id": "fa1a34e0-fbc1-4ebf-bf2b-c8cda2aa49df",
   "metadata": {},
   "outputs": [
    {
     "data": {
      "text/html": [
       "<div>\n",
       "<style scoped>\n",
       "    .dataframe tbody tr th:only-of-type {\n",
       "        vertical-align: middle;\n",
       "    }\n",
       "\n",
       "    .dataframe tbody tr th {\n",
       "        vertical-align: top;\n",
       "    }\n",
       "\n",
       "    .dataframe thead th {\n",
       "        text-align: right;\n",
       "    }\n",
       "</style>\n",
       "<table border=\"1\" class=\"dataframe\">\n",
       "  <thead>\n",
       "    <tr style=\"text-align: right;\">\n",
       "      <th></th>\n",
       "      <th>age</th>\n",
       "      <th>bmi</th>\n",
       "      <th>children</th>\n",
       "      <th>charges</th>\n",
       "      <th>sex_male</th>\n",
       "      <th>smoker_yes</th>\n",
       "      <th>region_northwest</th>\n",
       "      <th>region_southeast</th>\n",
       "      <th>region_southwest</th>\n",
       "      <th>bmi_health_risk_high</th>\n",
       "      <th>bmi_health_risk_moderate</th>\n",
       "      <th>bmi_health_risk_normal</th>\n",
       "    </tr>\n",
       "  </thead>\n",
       "  <tbody>\n",
       "    <tr>\n",
       "      <th>1333</th>\n",
       "      <td>50</td>\n",
       "      <td>30.97</td>\n",
       "      <td>3</td>\n",
       "      <td>10600.5483</td>\n",
       "      <td>1</td>\n",
       "      <td>0</td>\n",
       "      <td>1</td>\n",
       "      <td>0</td>\n",
       "      <td>0</td>\n",
       "      <td>1</td>\n",
       "      <td>0</td>\n",
       "      <td>0</td>\n",
       "    </tr>\n",
       "    <tr>\n",
       "      <th>1334</th>\n",
       "      <td>18</td>\n",
       "      <td>31.92</td>\n",
       "      <td>0</td>\n",
       "      <td>2205.9808</td>\n",
       "      <td>0</td>\n",
       "      <td>0</td>\n",
       "      <td>0</td>\n",
       "      <td>0</td>\n",
       "      <td>0</td>\n",
       "      <td>1</td>\n",
       "      <td>0</td>\n",
       "      <td>0</td>\n",
       "    </tr>\n",
       "    <tr>\n",
       "      <th>1335</th>\n",
       "      <td>18</td>\n",
       "      <td>36.85</td>\n",
       "      <td>0</td>\n",
       "      <td>1629.8335</td>\n",
       "      <td>0</td>\n",
       "      <td>0</td>\n",
       "      <td>0</td>\n",
       "      <td>1</td>\n",
       "      <td>0</td>\n",
       "      <td>1</td>\n",
       "      <td>0</td>\n",
       "      <td>0</td>\n",
       "    </tr>\n",
       "    <tr>\n",
       "      <th>1336</th>\n",
       "      <td>21</td>\n",
       "      <td>25.80</td>\n",
       "      <td>0</td>\n",
       "      <td>2007.9450</td>\n",
       "      <td>0</td>\n",
       "      <td>0</td>\n",
       "      <td>0</td>\n",
       "      <td>0</td>\n",
       "      <td>1</td>\n",
       "      <td>0</td>\n",
       "      <td>1</td>\n",
       "      <td>0</td>\n",
       "    </tr>\n",
       "    <tr>\n",
       "      <th>1337</th>\n",
       "      <td>61</td>\n",
       "      <td>29.07</td>\n",
       "      <td>0</td>\n",
       "      <td>29141.3603</td>\n",
       "      <td>0</td>\n",
       "      <td>1</td>\n",
       "      <td>1</td>\n",
       "      <td>0</td>\n",
       "      <td>0</td>\n",
       "      <td>1</td>\n",
       "      <td>0</td>\n",
       "      <td>0</td>\n",
       "    </tr>\n",
       "  </tbody>\n",
       "</table>\n",
       "</div>"
      ],
      "text/plain": [
       "      age    bmi  children     charges  sex_male  smoker_yes  \\\n",
       "1333   50  30.97         3  10600.5483         1           0   \n",
       "1334   18  31.92         0   2205.9808         0           0   \n",
       "1335   18  36.85         0   1629.8335         0           0   \n",
       "1336   21  25.80         0   2007.9450         0           0   \n",
       "1337   61  29.07         0  29141.3603         0           1   \n",
       "\n",
       "      region_northwest  region_southeast  region_southwest  \\\n",
       "1333                 1                 0                 0   \n",
       "1334                 0                 0                 0   \n",
       "1335                 0                 1                 0   \n",
       "1336                 0                 0                 1   \n",
       "1337                 1                 0                 0   \n",
       "\n",
       "      bmi_health_risk_high  bmi_health_risk_moderate  bmi_health_risk_normal  \n",
       "1333                     1                         0                       0  \n",
       "1334                     1                         0                       0  \n",
       "1335                     1                         0                       0  \n",
       "1336                     0                         1                       0  \n",
       "1337                     1                         0                       0  "
      ]
     },
     "execution_count": 19,
     "metadata": {},
     "output_type": "execute_result"
    }
   ],
   "source": [
    "# Displays last 5 rows of dataframe.\n",
    "medical_dataframe_dummified.tail()"
   ]
  },
  {
   "cell_type": "markdown",
   "id": "b483a4cc-d50c-4fc7-8173-b6d3de381705",
   "metadata": {},
   "source": [
    "### Select Features"
   ]
  },
  {
   "cell_type": "markdown",
   "id": "cbe8c440-7bd6-42e1-bf2e-f32a02c3807f",
   "metadata": {},
   "source": [
    "All columns from medical_dataframe_dummified will be selected as features except `charges`."
   ]
  },
  {
   "cell_type": "code",
   "execution_count": 20,
   "id": "671588dc-4d68-4ce4-adb1-b9a6c9166182",
   "metadata": {},
   "outputs": [],
   "source": [
    "# Drop \"charges\" and select the remaining columns as features. \n",
    "selected_features = medical_dataframe_dummified.drop(['charges'], axis=1)"
   ]
  },
  {
   "cell_type": "markdown",
   "id": "f9c33807-5724-4b24-a012-291456a6f9bb",
   "metadata": {},
   "source": [
    "# 3. Modelling"
   ]
  },
  {
   "cell_type": "markdown",
   "id": "7bbea994-b671-48b5-911e-dcf70056b0d9",
   "metadata": {},
   "source": [
    "Medical pricing is a supervised learning problem, whose dependent variable (target variable or output) is numeric variable ([source](https://elitedatascience.com/machine-learning-algorithms)). Hence, these algorithms will be trained based on labeled dataset that has a numeric target variabl:\n",
    "\n",
    "**(1) Regularized Linear Regression**<br>\n",
    "- [Linear Regression](#Linear-Regression)<br>\n",
    "- [Ridge](#Ridge)<br>\n",
    "- [Lasso](#Lasso)<br>\n",
    "- [Elastic Net](#ElasticNet)<br>\n",
    "\n",
    "**(2) Regression Tree (Ensembles)**<br>\n",
    "- [Random Forest](#Random-Forest)<br>\n",
    "- [Decision Tree](#Decision-Tree)<br>\n",
    "- [Extra Tree](#Extra-Tree)<br>\n",
    "- [Adaptive Boosting](#Adaptive-Boosting)<br>\n",
    "- [Gradient Boosting](#Gradient-Boosting)<br>"
   ]
  },
  {
   "cell_type": "markdown",
   "id": "62cde67a-0005-4b1a-8c3f-600df6e603a2",
   "metadata": {},
   "source": [
    "In this section, the following process will be carried out:\n",
    "- [Set up Data for Modelling](#Set-up-Data-for-Modelling) <br>\n",
    "- [Split Data into Training and Testing Sets](#Split-Data-into-Training-and-Testing-Sets) <br>\n",
    "- [Create Baseline Model](#Baseline-Model) <br>\n",
    "- [Create Benchmark Models](#Benchmark-Models) <br>\n",
    "- [Hyper-parameter Tuning on Models](#Hyper-parameter-Tuning) <br>\n",
    "- [Select Final Model](#Final-Model) <br>"
   ]
  },
  {
   "cell_type": "markdown",
   "id": "598fd997-2793-4361-9caf-bb72a356e3c4",
   "metadata": {},
   "source": [
    "#### Set up Data for Modelling"
   ]
  },
  {
   "cell_type": "code",
   "execution_count": 21,
   "id": "17479ec4-00f7-4665-95e4-d1a1cff22cf7",
   "metadata": {},
   "outputs": [],
   "source": [
    "# `X` will be the `selected_features` columns.\n",
    "# `y` will be the `fraud_reported` column.\n",
    "X = selected_features\n",
    "y = medical_dataframe_dummified['charges']"
   ]
  },
  {
   "cell_type": "code",
   "execution_count": 22,
   "id": "916ba208-54af-4b0b-aabf-5ba014b1843a",
   "metadata": {},
   "outputs": [
    {
     "data": {
      "image/png": "[encoded data removed]",
      "text/plain": [
       "<Figure size 432x288 with 1 Axes>"
      ]
     },
     "metadata": {
      "needs_background": "light"
     },
     "output_type": "display_data"
    }
   ],
   "source": [
    "# Draw histogram to show distribution. \n",
    "plt.hist(y)\n",
    "plt.ylabel(\"Frequency\")\n",
    "plt.xlabel(\"Charges\")\n",
    "plt.title(\"Histogram:Charges Distribution\");"
   ]
  },
  {
   "cell_type": "markdown",
   "id": "0eb19c07-938e-4752-bab2-92a8849cca85",
   "metadata": {},
   "source": [
    "**Observation**:\n",
    "- Charges are skewed to the right with most frequently occurred charges in a range that is less than 10,000."
   ]
  },
  {
   "cell_type": "markdown",
   "id": "4010c9e1-b802-4c93-8e7e-1cfc2a203f4f",
   "metadata": {},
   "source": [
    "#### Split Data into Training and Testing Sets"
   ]
  },
  {
   "cell_type": "code",
   "execution_count": 23,
   "id": "a0859f8c-df03-4b0f-ba42-e07931b255a3",
   "metadata": {},
   "outputs": [],
   "source": [
    "# Split the data into the training and testing sets.\n",
    "X_train, X_test, y_train, y_test = train_test_split(X,\n",
    "                                                    y,\n",
    "                                                    test_size=0.30,   # 30% of data is retained for testing.\n",
    "                                                    random_state=42)"
   ]
  },
  {
   "cell_type": "code",
   "execution_count": 24,
   "id": "ae7c8dba-8a1c-42c3-9015-f954eed15f66",
   "metadata": {},
   "outputs": [
    {
     "name": "stdout",
     "output_type": "stream",
     "text": [
      "X_train shape: (936, 11)\n",
      "X_test shape: (402, 11)\n"
     ]
    }
   ],
   "source": [
    "# Display shape of X_train and X_test.\n",
    "# Print X_train shape.\n",
    "print(f\"X_train shape:\", X_train.shape)\n",
    "# Print X_test shape.\n",
    "print(f\"X_test shape:\", X_test.shape)"
   ]
  },
  {
   "cell_type": "code",
   "execution_count": 25,
   "id": "a1b0d9d5-2b97-46d8-af6e-2c78fc5a9fbd",
   "metadata": {},
   "outputs": [
    {
     "data": {
      "text/html": [
       "<div>\n",
       "<style scoped>\n",
       "    .dataframe tbody tr th:only-of-type {\n",
       "        vertical-align: middle;\n",
       "    }\n",
       "\n",
       "    .dataframe tbody tr th {\n",
       "        vertical-align: top;\n",
       "    }\n",
       "\n",
       "    .dataframe thead th {\n",
       "        text-align: right;\n",
       "    }\n",
       "</style>\n",
       "<table border=\"1\" class=\"dataframe\">\n",
       "  <thead>\n",
       "    <tr style=\"text-align: right;\">\n",
       "      <th></th>\n",
       "      <th>age</th>\n",
       "      <th>bmi</th>\n",
       "      <th>children</th>\n",
       "      <th>sex_male</th>\n",
       "      <th>smoker_yes</th>\n",
       "      <th>region_northwest</th>\n",
       "      <th>region_southeast</th>\n",
       "      <th>region_southwest</th>\n",
       "      <th>bmi_health_risk_high</th>\n",
       "      <th>bmi_health_risk_moderate</th>\n",
       "      <th>bmi_health_risk_normal</th>\n",
       "    </tr>\n",
       "  </thead>\n",
       "  <tbody>\n",
       "    <tr>\n",
       "      <th>332</th>\n",
       "      <td>61</td>\n",
       "      <td>31.160</td>\n",
       "      <td>0</td>\n",
       "      <td>0</td>\n",
       "      <td>0</td>\n",
       "      <td>1</td>\n",
       "      <td>0</td>\n",
       "      <td>0</td>\n",
       "      <td>1</td>\n",
       "      <td>0</td>\n",
       "      <td>0</td>\n",
       "    </tr>\n",
       "    <tr>\n",
       "      <th>355</th>\n",
       "      <td>46</td>\n",
       "      <td>27.600</td>\n",
       "      <td>0</td>\n",
       "      <td>1</td>\n",
       "      <td>0</td>\n",
       "      <td>0</td>\n",
       "      <td>0</td>\n",
       "      <td>1</td>\n",
       "      <td>1</td>\n",
       "      <td>0</td>\n",
       "      <td>0</td>\n",
       "    </tr>\n",
       "    <tr>\n",
       "      <th>138</th>\n",
       "      <td>54</td>\n",
       "      <td>31.900</td>\n",
       "      <td>3</td>\n",
       "      <td>0</td>\n",
       "      <td>0</td>\n",
       "      <td>0</td>\n",
       "      <td>1</td>\n",
       "      <td>0</td>\n",
       "      <td>1</td>\n",
       "      <td>0</td>\n",
       "      <td>0</td>\n",
       "    </tr>\n",
       "    <tr>\n",
       "      <th>381</th>\n",
       "      <td>55</td>\n",
       "      <td>30.685</td>\n",
       "      <td>0</td>\n",
       "      <td>1</td>\n",
       "      <td>1</td>\n",
       "      <td>0</td>\n",
       "      <td>0</td>\n",
       "      <td>0</td>\n",
       "      <td>1</td>\n",
       "      <td>0</td>\n",
       "      <td>0</td>\n",
       "    </tr>\n",
       "    <tr>\n",
       "      <th>292</th>\n",
       "      <td>25</td>\n",
       "      <td>45.540</td>\n",
       "      <td>2</td>\n",
       "      <td>1</td>\n",
       "      <td>1</td>\n",
       "      <td>0</td>\n",
       "      <td>1</td>\n",
       "      <td>0</td>\n",
       "      <td>1</td>\n",
       "      <td>0</td>\n",
       "      <td>0</td>\n",
       "    </tr>\n",
       "  </tbody>\n",
       "</table>\n",
       "</div>"
      ],
      "text/plain": [
       "     age     bmi  children  sex_male  smoker_yes  region_northwest  \\\n",
       "332   61  31.160         0         0           0                 1   \n",
       "355   46  27.600         0         1           0                 0   \n",
       "138   54  31.900         3         0           0                 0   \n",
       "381   55  30.685         0         1           1                 0   \n",
       "292   25  45.540         2         1           1                 0   \n",
       "\n",
       "     region_southeast  region_southwest  bmi_health_risk_high  \\\n",
       "332                 0                 0                     1   \n",
       "355                 0                 1                     1   \n",
       "138                 1                 0                     1   \n",
       "381                 0                 0                     1   \n",
       "292                 1                 0                     1   \n",
       "\n",
       "     bmi_health_risk_moderate  bmi_health_risk_normal  \n",
       "332                         0                       0  \n",
       "355                         0                       0  \n",
       "138                         0                       0  \n",
       "381                         0                       0  \n",
       "292                         0                       0  "
      ]
     },
     "execution_count": 25,
     "metadata": {},
     "output_type": "execute_result"
    }
   ],
   "source": [
    "# Display first 5 rows of X_train.\n",
    "X_train.head()"
   ]
  },
  {
   "cell_type": "markdown",
   "id": "5f179e94-8342-45b3-bc11-73f3060e1dce",
   "metadata": {},
   "source": [
    "# Baseline Model"
   ]
  },
  {
   "cell_type": "markdown",
   "id": "9d20dfa9-ca7d-481a-803f-d47ab7550265",
   "metadata": {},
   "source": [
    "Baseline model serves as a baseline for comparison against new models."
   ]
  },
  {
   "cell_type": "code",
   "execution_count": 26,
   "id": "0f5952e3-a7ba-4469-8627-89901ee1df67",
   "metadata": {},
   "outputs": [
    {
     "name": "stdout",
     "output_type": "stream",
     "text": [
      "Baseline RMSE: $12,114\n"
     ]
    }
   ],
   "source": [
    "# Create a dummy regressor\n",
    "dummy_reg = DummyRegressor(strategy='mean')\n",
    "\n",
    "# Fit a pipeline using standard scaler and dummy regressor\n",
    "pipeline = make_pipeline(StandardScaler(), dummy_reg)\n",
    "\n",
    "# Fit it on the training set\n",
    "pipeline.fit(X_train, y_train)\n",
    "\n",
    "# Make predictions on the test set\n",
    "y_pred = pipeline.predict(X_test)\n",
    "\n",
    "# Calculate root mean squared error\n",
    "mse = mean_squared_error(y_test, y_pred)\n",
    "rmse = np.sqrt(mse)\n",
    "print(\"Baseline RMSE:\", \"${:,.0f}\".format(rmse))"
   ]
  },
  {
   "cell_type": "markdown",
   "id": "f3ebfb7c-e6ce-4039-8c94-ac9285824e67",
   "metadata": {},
   "source": [
    "#### Baseline Model Score"
   ]
  },
  {
   "cell_type": "markdown",
   "id": "250b933a-45fe-4893-ade1-602df08a17af",
   "metadata": {},
   "source": [
    "RMSE is the square root of the variance of the residuals (difference between observed value of health insurance premium and predicted value of health insurance premium). Hence, RMSE can be interpreted as the standard deviation of the unexplained variance. RMSE is a good measure of how accurately the model predicts health insurance premium with lower values of RMSE indicating better fit ([source](https://www.theanalysisfactor.com/assessing-the-fit-of-regression-models/#:~:text=As%20the%20square%20root%20of,the%20model%20predicts%20the%20response)).\n",
    "\n",
    "As the goal of this project is to predict health insurance premium, RMSE at $12,114 is used as baseline."
   ]
  },
  {
   "cell_type": "markdown",
   "id": "2c2c45cf-10ec-4fbb-bee8-709b2461db16",
   "metadata": {},
   "source": [
    "# Benchmark Models"
   ]
  },
  {
   "cell_type": "markdown",
   "id": "1ad3d09f-39f6-4bd2-bfb6-ea32765031bb",
   "metadata": {},
   "source": [
    "Models are run without cross validation and hyper-parameter tuning."
   ]
  },
  {
   "cell_type": "code",
   "execution_count": 27,
   "id": "04c790f6-ff65-46b2-a9c8-114c2f6f61af",
   "metadata": {},
   "outputs": [],
   "source": [
    "# Instantiate models\n",
    "models = {'lr': LinearRegression(),\n",
    "          'rg': Ridge(random_state=42),\n",
    "          'ls': Lasso(random_state=42),\n",
    "          'en': ElasticNet(random_state=42),\n",
    "          'rf': RandomForestRegressor(random_state=42),\n",
    "          'dt': DecisionTreeRegressor(random_state=42),\n",
    "          'et': ExtraTreesRegressor(random_state=42),\n",
    "          'ada': AdaBoostRegressor(random_state=42),\n",
    "          'gb': GradientBoostingRegressor(random_state=42)\n",
    "         }"
   ]
  },
  {
   "cell_type": "code",
   "execution_count": 28,
   "id": "bdf11bba-4391-4357-a9bb-bf993c93d77f",
   "metadata": {},
   "outputs": [],
   "source": [
    "# Instantiate lists to store results\n",
    "init_list = []\n",
    "gs_list = []\n",
    "\n",
    "# Function to run model -- input scaler and model\n",
    "def run_model(mod, grid_search=False, mod_params={}):\n",
    "\n",
    "    # Initial dictionary to hold model results\n",
    "    results = {}\n",
    "    \n",
    "    # Loading model\n",
    "    model = mod\n",
    "\n",
    "    # Fit a pipeline using standard scaler and model\n",
    "    pipe = Pipeline([('ss', StandardScaler()), \n",
    "                         (mod, models[mod])])\n",
    "    \n",
    "    if grid_search:\n",
    "        # Instantiate list to store gridsearch results\n",
    "        gs = GridSearchCV(pipe, param_grid=mod_params, cv=10, verbose=1, n_jobs=-1)\n",
    "        gs.fit(X_train, y_train)\n",
    "        pipe = gs\n",
    "    else:\n",
    "        pipe.fit(X_train, y_train)\n",
    "    \n",
    "    # Prediction on training Data\n",
    "    training_data_prediction = pipe.predict(X_train) \n",
    "\n",
    "    # Prediction on testing Data\n",
    "    y_pred = pipe.predict(X_test)\n",
    "\n",
    "    # Calculate R squared error - training\n",
    "    r_squared_training = metrics.r2_score(y_train, training_data_prediction)\n",
    "\n",
    "    # Calculate R squared error - test\n",
    "    r_squared_test = metrics.r2_score(y_test, y_pred)\n",
    "\n",
    "    # Display adjusted R squared - training\n",
    "    adjusted_r2_training = 1 - (1-r_squared_training)*(len(y)-1)/(len(y)-X.shape[1]-1)\n",
    "\n",
    "    # Display adjusted R squared - test\n",
    "    adjusted_r2_test = 1 - (1-r_squared_test)*(len(y)-1)/(len(y)-X.shape[1]-1)\n",
    "\n",
    "    # Calculate root mean squared error - training\n",
    "    train_mse = mean_squared_error(y_train, training_data_prediction)\n",
    "    train_rmse = np.sqrt(train_mse)\n",
    "\n",
    "    # Calculate root mean squared error - test\n",
    "    test_mse = mean_squared_error(y_test, y_pred)\n",
    "    test_rmse = np.sqrt(test_mse)\n",
    "    \n",
    "    # Retrieve metrics\n",
    "    results['model'] = mod\n",
    "    \n",
    "    results['Adjusted R Squared Training'] = '{:.1%}'.format(adjusted_r2_training)\n",
    "    results['Adjusted R Squared Test'] = '{:.1%}'.format(adjusted_r2_test)\n",
    "    results['RMSE Training'] = '${:,.2f}'.format(train_rmse)\n",
    "    results['RMSE Test'] = '${:,.2f}'.format(test_rmse)\n",
    "    \n",
    "    if grid_search:\n",
    "\n",
    "        # Derive best parameters.\n",
    "        print('***************************** Best Parameters *************************************')\n",
    "        display(pipe.best_params_)\n",
    "\n",
    "        # Display model metrics.\n",
    "        print('********************************** Model Metrics **********************************')\n",
    "        display(results)\n",
    "        \n",
    "        # Append model's metrics.\n",
    "        gs_list.append(results)\n",
    "    \n",
    "    else: \n",
    "        print('********************************** Model Metrics **********************************')\n",
    "        display(results)\n",
    "    \n",
    "        init_list.append(results)"
   ]
  },
  {
   "cell_type": "markdown",
   "id": "b00f6d12-0002-41fc-abc6-abe29d38498e",
   "metadata": {},
   "source": [
    "### Linear Regression"
   ]
  },
  {
   "cell_type": "code",
   "execution_count": 29,
   "id": "29028c18-a33e-4933-a8ae-35051c42221d",
   "metadata": {},
   "outputs": [
    {
     "name": "stdout",
     "output_type": "stream",
     "text": [
      "********************************** Model Metrics **********************************\n"
     ]
    },
    {
     "data": {
      "text/plain": [
       "{'model': 'lr',\n",
       " 'Adjusted R Squared Training': '74.1%',\n",
       " 'Adjusted R Squared Test': '76.8%',\n",
       " 'RMSE Training': '$6,139.38',\n",
       " 'RMSE Test': '$5,813.45'}"
      ]
     },
     "metadata": {},
     "output_type": "display_data"
    }
   ],
   "source": [
    "# Run Linear Regression.\n",
    "rf = run_model(mod=\"lr\")"
   ]
  },
  {
   "cell_type": "markdown",
   "id": "0f7c283d-5722-417e-b8ba-0491d740a703",
   "metadata": {},
   "source": [
    "### Ridge"
   ]
  },
  {
   "cell_type": "code",
   "execution_count": 30,
   "id": "b7d5e0b7-c8c0-4d63-8c33-f28eb29cda1f",
   "metadata": {},
   "outputs": [
    {
     "name": "stdout",
     "output_type": "stream",
     "text": [
      "********************************** Model Metrics **********************************\n"
     ]
    },
    {
     "data": {
      "text/plain": [
       "{'model': 'rg',\n",
       " 'Adjusted R Squared Training': '74.1%',\n",
       " 'Adjusted R Squared Test': '76.8%',\n",
       " 'RMSE Training': '$6,139.40',\n",
       " 'RMSE Test': '$5,813.27'}"
      ]
     },
     "metadata": {},
     "output_type": "display_data"
    }
   ],
   "source": [
    "# Run Ridge.\n",
    "rg = run_model(mod=\"rg\")"
   ]
  },
  {
   "cell_type": "markdown",
   "id": "9330de66-8a8b-4c19-9259-7cdaf2a273ee",
   "metadata": {},
   "source": [
    "### Lasso"
   ]
  },
  {
   "cell_type": "code",
   "execution_count": 31,
   "id": "86ad3acf-aa6a-4e65-8c4e-727c6f5bec0b",
   "metadata": {},
   "outputs": [
    {
     "name": "stdout",
     "output_type": "stream",
     "text": [
      "********************************** Model Metrics **********************************\n"
     ]
    },
    {
     "data": {
      "text/plain": [
       "{'model': 'ls',\n",
       " 'Adjusted R Squared Training': '74.1%',\n",
       " 'Adjusted R Squared Test': '76.8%',\n",
       " 'RMSE Training': '$6,139.39',\n",
       " 'RMSE Test': '$5,812.38'}"
      ]
     },
     "metadata": {},
     "output_type": "display_data"
    }
   ],
   "source": [
    "# Run Lasso.\n",
    "ls = run_model(mod=\"ls\")"
   ]
  },
  {
   "cell_type": "markdown",
   "id": "e5c024fe-3b91-454c-9504-74ce080244ce",
   "metadata": {},
   "source": [
    "### ElasticNet"
   ]
  },
  {
   "cell_type": "code",
   "execution_count": 32,
   "id": "b87f6e72-7595-4436-a307-dd94560a1699",
   "metadata": {},
   "outputs": [
    {
     "name": "stdout",
     "output_type": "stream",
     "text": [
      "********************************** Model Metrics **********************************\n"
     ]
    },
    {
     "data": {
      "text/plain": [
       "{'model': 'en',\n",
       " 'Adjusted R Squared Training': '65.6%',\n",
       " 'Adjusted R Squared Test': '67.6%',\n",
       " 'RMSE Training': '$7,068.36',\n",
       " 'RMSE Test': '$6,864.06'}"
      ]
     },
     "metadata": {},
     "output_type": "display_data"
    }
   ],
   "source": [
    "# Run ElasticNet.\n",
    "en = run_model(mod=\"en\")"
   ]
  },
  {
   "cell_type": "markdown",
   "id": "5d5ae593-a079-4d39-9427-c78989f61564",
   "metadata": {},
   "source": [
    "### Random Forest"
   ]
  },
  {
   "cell_type": "code",
   "execution_count": 33,
   "id": "8fbc50e0-4a0a-4e54-b858-404308ec9c97",
   "metadata": {},
   "outputs": [
    {
     "name": "stdout",
     "output_type": "stream",
     "text": [
      "********************************** Model Metrics **********************************\n"
     ]
    },
    {
     "data": {
      "text/plain": [
       "{'model': 'rf',\n",
       " 'Adjusted R Squared Training': '97.6%',\n",
       " 'Adjusted R Squared Test': '85.5%',\n",
       " 'RMSE Training': '$1,861.13',\n",
       " 'RMSE Test': '$4,585.05'}"
      ]
     },
     "metadata": {},
     "output_type": "display_data"
    }
   ],
   "source": [
    "# Run Random Forest.\n",
    "rf = run_model(mod=\"rf\")"
   ]
  },
  {
   "cell_type": "markdown",
   "id": "3c2c841d-759f-4289-bf16-a1ac468c85bc",
   "metadata": {},
   "source": [
    "### Decision Tree"
   ]
  },
  {
   "cell_type": "code",
   "execution_count": 34,
   "id": "1dfe4703-e7c7-4321-bbfe-317e5cf26d11",
   "metadata": {},
   "outputs": [
    {
     "name": "stdout",
     "output_type": "stream",
     "text": [
      "********************************** Model Metrics **********************************\n"
     ]
    },
    {
     "data": {
      "text/plain": [
       "{'model': 'dt',\n",
       " 'Adjusted R Squared Training': '100.0%',\n",
       " 'Adjusted R Squared Test': '69.7%',\n",
       " 'RMSE Training': '$0.00',\n",
       " 'RMSE Test': '$6,634.34'}"
      ]
     },
     "metadata": {},
     "output_type": "display_data"
    }
   ],
   "source": [
    "# Run Decision Tree Regressor.\n",
    "dt = run_model(mod=\"dt\")"
   ]
  },
  {
   "cell_type": "markdown",
   "id": "0a1d6b2f-eaa8-4a2b-b329-47785205e760",
   "metadata": {},
   "source": [
    "### Extra Tree"
   ]
  },
  {
   "cell_type": "code",
   "execution_count": 35,
   "id": "c5020f85-c518-4932-b871-90f2c710a653",
   "metadata": {},
   "outputs": [
    {
     "name": "stdout",
     "output_type": "stream",
     "text": [
      "********************************** Model Metrics **********************************\n"
     ]
    },
    {
     "data": {
      "text/plain": [
       "{'model': 'et',\n",
       " 'Adjusted R Squared Training': '100.0%',\n",
       " 'Adjusted R Squared Test': '82.7%',\n",
       " 'RMSE Training': '$0.00',\n",
       " 'RMSE Test': '$5,018.69'}"
      ]
     },
     "metadata": {},
     "output_type": "display_data"
    }
   ],
   "source": [
    "# Run Extra Trees Regressor.\n",
    "et = run_model(mod=\"et\")"
   ]
  },
  {
   "cell_type": "markdown",
   "id": "a621b6c4-805e-4869-9bc0-9407e36f7c0e",
   "metadata": {},
   "source": [
    "### Adaptive Boosting"
   ]
  },
  {
   "cell_type": "code",
   "execution_count": 36,
   "id": "64b1d4ca-f2fa-476f-94d5-10689b53b665",
   "metadata": {},
   "outputs": [
    {
     "name": "stdout",
     "output_type": "stream",
     "text": [
      "********************************** Model Metrics **********************************\n"
     ]
    },
    {
     "data": {
      "text/plain": [
       "{'model': 'ada',\n",
       " 'Adjusted R Squared Training': '84.7%',\n",
       " 'Adjusted R Squared Test': '83.8%',\n",
       " 'RMSE Training': '$4,721.48',\n",
       " 'RMSE Test': '$4,852.45'}"
      ]
     },
     "metadata": {},
     "output_type": "display_data"
    }
   ],
   "source": [
    "# Run Adaptive Boosting.\n",
    "ab = run_model(mod=\"ada\")"
   ]
  },
  {
   "cell_type": "markdown",
   "id": "e444361a-21b1-464a-bb7e-4345be2c1783",
   "metadata": {},
   "source": [
    "### Gradient Boosting"
   ]
  },
  {
   "cell_type": "code",
   "execution_count": 37,
   "id": "96ec35ee-e233-494e-82fd-14e783ecbdf4",
   "metadata": {},
   "outputs": [
    {
     "name": "stdout",
     "output_type": "stream",
     "text": [
      "********************************** Model Metrics **********************************\n"
     ]
    },
    {
     "data": {
      "text/plain": [
       "{'model': 'gb',\n",
       " 'Adjusted R Squared Training': '90.4%',\n",
       " 'Adjusted R Squared Test': '86.3%',\n",
       " 'RMSE Training': '$3,736.74',\n",
       " 'RMSE Test': '$4,458.08'}"
      ]
     },
     "metadata": {},
     "output_type": "display_data"
    }
   ],
   "source": [
    "# Run Gradient Tree Boosting.\n",
    "gb = run_model(mod=\"gb\")"
   ]
  },
  {
   "cell_type": "code",
   "execution_count": 38,
   "id": "280d6075-7c7e-4901-8013-8dc7a7156882",
   "metadata": {},
   "outputs": [
    {
     "data": {
      "text/html": [
       "<div>\n",
       "<style scoped>\n",
       "    .dataframe tbody tr th:only-of-type {\n",
       "        vertical-align: middle;\n",
       "    }\n",
       "\n",
       "    .dataframe tbody tr th {\n",
       "        vertical-align: top;\n",
       "    }\n",
       "\n",
       "    .dataframe thead th {\n",
       "        text-align: right;\n",
       "    }\n",
       "</style>\n",
       "<table border=\"1\" class=\"dataframe\">\n",
       "  <thead>\n",
       "    <tr style=\"text-align: right;\">\n",
       "      <th></th>\n",
       "      <th>model</th>\n",
       "      <th>Adjusted R Squared Training</th>\n",
       "      <th>Adjusted R Squared Test</th>\n",
       "      <th>RMSE Training</th>\n",
       "      <th>RMSE Test</th>\n",
       "    </tr>\n",
       "  </thead>\n",
       "  <tbody>\n",
       "    <tr>\n",
       "      <th>0</th>\n",
       "      <td>gb</td>\n",
       "      <td>90.4%</td>\n",
       "      <td>86.3%</td>\n",
       "      <td>$3,736.74</td>\n",
       "      <td>$4,458.08</td>\n",
       "    </tr>\n",
       "    <tr>\n",
       "      <th>1</th>\n",
       "      <td>rf</td>\n",
       "      <td>97.6%</td>\n",
       "      <td>85.5%</td>\n",
       "      <td>$1,861.13</td>\n",
       "      <td>$4,585.05</td>\n",
       "    </tr>\n",
       "    <tr>\n",
       "      <th>2</th>\n",
       "      <td>ada</td>\n",
       "      <td>84.7%</td>\n",
       "      <td>83.8%</td>\n",
       "      <td>$4,721.48</td>\n",
       "      <td>$4,852.45</td>\n",
       "    </tr>\n",
       "    <tr>\n",
       "      <th>3</th>\n",
       "      <td>et</td>\n",
       "      <td>100.0%</td>\n",
       "      <td>82.7%</td>\n",
       "      <td>$0.00</td>\n",
       "      <td>$5,018.69</td>\n",
       "    </tr>\n",
       "    <tr>\n",
       "      <th>4</th>\n",
       "      <td>lr</td>\n",
       "      <td>74.1%</td>\n",
       "      <td>76.8%</td>\n",
       "      <td>$6,139.38</td>\n",
       "      <td>$5,813.45</td>\n",
       "    </tr>\n",
       "    <tr>\n",
       "      <th>5</th>\n",
       "      <td>rg</td>\n",
       "      <td>74.1%</td>\n",
       "      <td>76.8%</td>\n",
       "      <td>$6,139.40</td>\n",
       "      <td>$5,813.27</td>\n",
       "    </tr>\n",
       "    <tr>\n",
       "      <th>6</th>\n",
       "      <td>ls</td>\n",
       "      <td>74.1%</td>\n",
       "      <td>76.8%</td>\n",
       "      <td>$6,139.39</td>\n",
       "      <td>$5,812.38</td>\n",
       "    </tr>\n",
       "    <tr>\n",
       "      <th>7</th>\n",
       "      <td>dt</td>\n",
       "      <td>100.0%</td>\n",
       "      <td>69.7%</td>\n",
       "      <td>$0.00</td>\n",
       "      <td>$6,634.34</td>\n",
       "    </tr>\n",
       "    <tr>\n",
       "      <th>8</th>\n",
       "      <td>en</td>\n",
       "      <td>65.6%</td>\n",
       "      <td>67.6%</td>\n",
       "      <td>$7,068.36</td>\n",
       "      <td>$6,864.06</td>\n",
       "    </tr>\n",
       "  </tbody>\n",
       "</table>\n",
       "</div>"
      ],
      "text/plain": [
       "  model Adjusted R Squared Training Adjusted R Squared Test RMSE Training  \\\n",
       "0    gb                       90.4%                   86.3%     $3,736.74   \n",
       "1    rf                       97.6%                   85.5%     $1,861.13   \n",
       "2   ada                       84.7%                   83.8%     $4,721.48   \n",
       "3    et                      100.0%                   82.7%         $0.00   \n",
       "4    lr                       74.1%                   76.8%     $6,139.38   \n",
       "5    rg                       74.1%                   76.8%     $6,139.40   \n",
       "6    ls                       74.1%                   76.8%     $6,139.39   \n",
       "7    dt                      100.0%                   69.7%         $0.00   \n",
       "8    en                       65.6%                   67.6%     $7,068.36   \n",
       "\n",
       "   RMSE Test  \n",
       "0  $4,458.08  \n",
       "1  $4,585.05  \n",
       "2  $4,852.45  \n",
       "3  $5,018.69  \n",
       "4  $5,813.45  \n",
       "5  $5,813.27  \n",
       "6  $5,812.38  \n",
       "7  $6,634.34  \n",
       "8  $6,864.06  "
      ]
     },
     "execution_count": 38,
     "metadata": {},
     "output_type": "execute_result"
    }
   ],
   "source": [
    "# Results of initial modelling.\n",
    "pd.DataFrame(init_list).sort_values(by='Adjusted R Squared Test', ascending=False).reset_index(drop=True)"
   ]
  },
  {
   "cell_type": "markdown",
   "id": "597c20e0-0899-4ad5-a188-e91ff28ff684",
   "metadata": {},
   "source": [
    "**Observations**:\n",
    "- Random Forest, Extra Tree and Decision Tree have overfitting issues.\n",
    "- Gradient Boosting has highest adjusted r squared testing score at 86%.\n",
    "- Extra Tree and Decision Tree have highest adjusted r squared testing score at 100%."
   ]
  },
  {
   "cell_type": "markdown",
   "id": "fb6bb2f9-9cbd-490f-8c12-e15c7b85712b",
   "metadata": {},
   "source": [
    "# Hyper-parameter Tuning"
   ]
  },
  {
   "cell_type": "markdown",
   "id": "7329823d-4847-4617-a282-10c434eccf97",
   "metadata": {},
   "source": [
    "Models are run with cross validation and hyper-parameter tuning."
   ]
  },
  {
   "cell_type": "code",
   "execution_count": 39,
   "id": "2d91c285-c7ec-4fac-9aed-feab3d939c57",
   "metadata": {},
   "outputs": [],
   "source": [
    "# Instantiate models\n",
    "models = {'lr': LinearRegression(),\n",
    "          'rg': Ridge(random_state=42),\n",
    "          'ls': Lasso(random_state=42),\n",
    "          'en': ElasticNet(random_state=42),\n",
    "          'rf': RandomForestRegressor(random_state=42),\n",
    "          'dt': DecisionTreeRegressor(random_state=42),\n",
    "          'et': ExtraTreesRegressor(random_state=42),\n",
    "          'ada': AdaBoostRegressor(random_state=42),\n",
    "          'gb': GradientBoostingRegressor(random_state=42)\n",
    "         }"
   ]
  },
  {
   "cell_type": "markdown",
   "id": "3c53e133-01cc-4d34-945c-8a65e133bd24",
   "metadata": {},
   "source": [
    "### Linear Regression"
   ]
  },
  {
   "cell_type": "code",
   "execution_count": 40,
   "id": "09a7ef8f-bf04-465a-a98d-7f7ab518e107",
   "metadata": {},
   "outputs": [
    {
     "name": "stdout",
     "output_type": "stream",
     "text": [
      "Fitting 10 folds for each of 1 candidates, totalling 10 fits\n",
      "***************************** Best Parameters *************************************\n"
     ]
    },
    {
     "data": {
      "text/plain": [
       "{}"
      ]
     },
     "metadata": {},
     "output_type": "display_data"
    },
    {
     "name": "stdout",
     "output_type": "stream",
     "text": [
      "********************************** Model Metrics **********************************\n"
     ]
    },
    {
     "data": {
      "text/plain": [
       "{'model': 'lr',\n",
       " 'Adjusted R Squared Training': '74.1%',\n",
       " 'Adjusted R Squared Test': '76.8%',\n",
       " 'RMSE Training': '$6,139.38',\n",
       " 'RMSE Test': '$5,813.45'}"
      ]
     },
     "metadata": {},
     "output_type": "display_data"
    }
   ],
   "source": [
    "# Run Linear Regression.\n",
    "lr = run_model(mod=\"lr\", grid_search=True)"
   ]
  },
  {
   "cell_type": "markdown",
   "id": "00f56e63-8b4f-4ded-b986-84b14c38b6eb",
   "metadata": {},
   "source": [
    "### Ridge"
   ]
  },
  {
   "cell_type": "code",
   "execution_count": 41,
   "id": "78dedd2b-1ca1-4151-a1a3-a508c5f4fb5b",
   "metadata": {},
   "outputs": [],
   "source": [
    "rg_params = [{    \n",
    "             # Trying different alphas\n",
    "            'rg__alpha':[1e-3, 1e-2, 1e-1, 0.2, 0.25, 0.5, 0.75, 1.0, 2.0, 2.5, 5.0, 7.5, 10.0, 20.0, 25.0]}]"
   ]
  },
  {
   "cell_type": "code",
   "execution_count": 42,
   "id": "a20d3e77-af06-4c90-b1f1-37a8911ff091",
   "metadata": {},
   "outputs": [
    {
     "name": "stdout",
     "output_type": "stream",
     "text": [
      "Fitting 10 folds for each of 15 candidates, totalling 150 fits\n",
      "***************************** Best Parameters *************************************\n"
     ]
    },
    {
     "data": {
      "text/plain": [
       "{'rg__alpha': 20.0}"
      ]
     },
     "metadata": {},
     "output_type": "display_data"
    },
    {
     "name": "stdout",
     "output_type": "stream",
     "text": [
      "********************************** Model Metrics **********************************\n"
     ]
    },
    {
     "data": {
      "text/plain": [
       "{'model': 'rg',\n",
       " 'Adjusted R Squared Training': '74.0%',\n",
       " 'Adjusted R Squared Test': '76.7%',\n",
       " 'RMSE Training': '$6,143.73',\n",
       " 'RMSE Test': '$5,817.68'}"
      ]
     },
     "metadata": {},
     "output_type": "display_data"
    }
   ],
   "source": [
    "# Run Ridge.\n",
    "rg = run_model(mod=\"rg\",grid_search=True, mod_params=rg_params)"
   ]
  },
  {
   "cell_type": "markdown",
   "id": "979d11a2-a1d3-44d6-84ab-73a69480edd8",
   "metadata": {},
   "source": [
    "### Lasso"
   ]
  },
  {
   "cell_type": "code",
   "execution_count": 43,
   "id": "ec5632d5-9af3-4e37-9feb-81fe9ad31b42",
   "metadata": {},
   "outputs": [],
   "source": [
    "ls_params = [{    \n",
    "             # Trying different alphas\n",
    "            'ls__alpha':[1e-3, 1e-2, 1e-1, 0.2, 0.25, 0.5, 0.75, 1.0, 2.0, 2.5, 5.0, 7.5, 10.0, 20.0, 25.0]}]"
   ]
  },
  {
   "cell_type": "code",
   "execution_count": 44,
   "id": "71e50b9d-bc2b-476b-af28-f5fae70b147a",
   "metadata": {},
   "outputs": [
    {
     "name": "stdout",
     "output_type": "stream",
     "text": [
      "Fitting 10 folds for each of 15 candidates, totalling 150 fits\n",
      "***************************** Best Parameters *************************************\n"
     ]
    },
    {
     "data": {
      "text/plain": [
       "{'ls__alpha': 25.0}"
      ]
     },
     "metadata": {},
     "output_type": "display_data"
    },
    {
     "name": "stdout",
     "output_type": "stream",
     "text": [
      "********************************** Model Metrics **********************************\n"
     ]
    },
    {
     "data": {
      "text/plain": [
       "{'model': 'ls',\n",
       " 'Adjusted R Squared Training': '74.0%',\n",
       " 'Adjusted R Squared Test': '76.8%',\n",
       " 'RMSE Training': '$6,141.07',\n",
       " 'RMSE Test': '$5,803.83'}"
      ]
     },
     "metadata": {},
     "output_type": "display_data"
    }
   ],
   "source": [
    "# Run Lasso.\n",
    "ls = run_model(mod=\"ls\", grid_search=True, mod_params=ls_params)"
   ]
  },
  {
   "cell_type": "markdown",
   "id": "26aa2a2b-caec-45be-b632-1174513532fd",
   "metadata": {},
   "source": [
    "### ElasticNet"
   ]
  },
  {
   "cell_type": "code",
   "execution_count": 45,
   "id": "4720aabe-63f0-42f1-bfd2-35d9af7024fe",
   "metadata": {},
   "outputs": [],
   "source": [
    "en_params = [{    \n",
    "             # Trying different alphas\n",
    "            'en__alpha':[1e-3, 1e-2, 1e-1, 0.2, 0.25, 0.5, 0.75, 1.0, 2.0, 2.5, 5.0, 7.5, 10.0, 20.0, 25.0]}]"
   ]
  },
  {
   "cell_type": "code",
   "execution_count": 46,
   "id": "db214db3-68ba-4399-a28a-cc92d0159953",
   "metadata": {},
   "outputs": [
    {
     "name": "stdout",
     "output_type": "stream",
     "text": [
      "Fitting 10 folds for each of 15 candidates, totalling 150 fits\n",
      "***************************** Best Parameters *************************************\n"
     ]
    },
    {
     "data": {
      "text/plain": [
       "{'en__alpha': 0.01}"
      ]
     },
     "metadata": {},
     "output_type": "display_data"
    },
    {
     "name": "stdout",
     "output_type": "stream",
     "text": [
      "********************************** Model Metrics **********************************\n"
     ]
    },
    {
     "data": {
      "text/plain": [
       "{'model': 'en',\n",
       " 'Adjusted R Squared Training': '74.1%',\n",
       " 'Adjusted R Squared Test': '76.8%',\n",
       " 'RMSE Training': '$6,139.64',\n",
       " 'RMSE Test': '$5,813.05'}"
      ]
     },
     "metadata": {},
     "output_type": "display_data"
    }
   ],
   "source": [
    "# Run ElasticNet.\n",
    "en = run_model(mod=\"en\", grid_search=True, mod_params=en_params)"
   ]
  },
  {
   "cell_type": "markdown",
   "id": "e5e31e92-7c63-4a53-9e58-5461d37cc9fc",
   "metadata": {},
   "source": [
    "### Random Forest"
   ]
  },
  {
   "cell_type": "code",
   "execution_count": 47,
   "id": "ef991f25-ea8b-454a-8eb9-dac586a4c6ca",
   "metadata": {},
   "outputs": [],
   "source": [
    "rf_params = {'rf__n_estimators': [20, 25, 30, 35],\n",
    "             'rf__max_depth': [20, 30, 40, 50],\n",
    "             'rf__min_samples_leaf': [2, 3, 4, 5],\n",
    "            }"
   ]
  },
  {
   "cell_type": "code",
   "execution_count": 48,
   "id": "550d4912-4463-458d-838e-a13b3427d60c",
   "metadata": {},
   "outputs": [
    {
     "name": "stdout",
     "output_type": "stream",
     "text": [
      "Fitting 10 folds for each of 64 candidates, totalling 640 fits\n",
      "***************************** Best Parameters *************************************\n"
     ]
    },
    {
     "data": {
      "text/plain": [
       "{'rf__max_depth': 20, 'rf__min_samples_leaf': 5, 'rf__n_estimators': 35}"
      ]
     },
     "metadata": {},
     "output_type": "display_data"
    },
    {
     "name": "stdout",
     "output_type": "stream",
     "text": [
      "********************************** Model Metrics **********************************\n"
     ]
    },
    {
     "data": {
      "text/plain": [
       "{'model': 'rf',\n",
       " 'Adjusted R Squared Training': '90.4%',\n",
       " 'Adjusted R Squared Test': '87.0%',\n",
       " 'RMSE Training': '$3,740.14',\n",
       " 'RMSE Test': '$4,350.04'}"
      ]
     },
     "metadata": {},
     "output_type": "display_data"
    }
   ],
   "source": [
    "# Run Random Forest.\n",
    "rf = run_model(mod=\"rf\", grid_search=True, mod_params=rf_params)"
   ]
  },
  {
   "cell_type": "markdown",
   "id": "ff502427-2027-4b8c-9a3f-80bb32969a6e",
   "metadata": {},
   "source": [
    "### Decision Tree"
   ]
  },
  {
   "cell_type": "code",
   "execution_count": 49,
   "id": "2862d00c-92ca-4975-9e13-8f8cdaf16d4c",
   "metadata": {},
   "outputs": [],
   "source": [
    "dt_params = {'dt__max_depth': [20, 30, 40, 50],\n",
    "             'dt__min_samples_split': [1, 5, 10, 15],\n",
    "             'dt__min_samples_leaf': [2, 3, 4, 5],\n",
    "             }"
   ]
  },
  {
   "cell_type": "code",
   "execution_count": 50,
   "id": "242a1ccf-370d-4385-b1ae-0e0ba6bf2d71",
   "metadata": {
    "scrolled": true,
    "tags": []
   },
   "outputs": [
    {
     "name": "stdout",
     "output_type": "stream",
     "text": [
      "Fitting 10 folds for each of 64 candidates, totalling 640 fits\n",
      "***************************** Best Parameters *************************************\n"
     ]
    },
    {
     "name": "stderr",
     "output_type": "stream",
     "text": [
      "\n",
      "160 fits failed out of a total of 640.\n",
      "The score on these train-test partitions for these parameters will be set to nan.\n",
      "If these failures are not expected, you can try to debug them by setting error_score='raise'.\n",
      "\n",
      "Below are more details about the failures:\n",
      "--------------------------------------------------------------------------------\n",
      "160 fits failed with the following error:\n",
      "Traceback (most recent call last):\n",
      "  File \"C:\\Users\\USER\\miniforge3\\envs\\dsi-sg\\lib\\site-packages\\sklearn\\model_selection\\_validation.py\", line 686, in _fit_and_score\n",
      "    estimator.fit(X_train, y_train, **fit_params)\n",
      "  File \"C:\\Users\\USER\\miniforge3\\envs\\dsi-sg\\lib\\site-packages\\sklearn\\pipeline.py\", line 382, in fit\n",
      "    self._final_estimator.fit(Xt, y, **fit_params_last_step)\n",
      "  File \"C:\\Users\\USER\\miniforge3\\envs\\dsi-sg\\lib\\site-packages\\sklearn\\tree\\_classes.py\", line 1342, in fit\n",
      "    super().fit(\n",
      "  File \"C:\\Users\\USER\\miniforge3\\envs\\dsi-sg\\lib\\site-packages\\sklearn\\tree\\_classes.py\", line 265, in fit\n",
      "    check_scalar(\n",
      "  File \"C:\\Users\\USER\\miniforge3\\envs\\dsi-sg\\lib\\site-packages\\sklearn\\utils\\validation.py\", line 1480, in check_scalar\n",
      "    raise ValueError(\n",
      "ValueError: min_samples_split == 1, must be >= 2.\n",
      "\n",
      "One or more of the test scores are non-finite: [       nan 0.75492898 0.78812764 0.80008274        nan 0.78516449\n",
      " 0.79776548 0.80574061        nan 0.79573597 0.80035703 0.81079891\n",
      "        nan 0.80678967 0.80678967 0.81691541        nan 0.75492898\n",
      " 0.78812764 0.80008274        nan 0.78516449 0.79776548 0.80574061\n",
      "        nan 0.79573597 0.80035703 0.81079891        nan 0.80678967\n",
      " 0.80678967 0.81691541        nan 0.75492898 0.78812764 0.80008274\n",
      "        nan 0.78516449 0.79776548 0.80574061        nan 0.79573597\n",
      " 0.80035703 0.81079891        nan 0.80678967 0.80678967 0.81691541\n",
      "        nan 0.75492898 0.78812764 0.80008274        nan 0.78516449\n",
      " 0.79776548 0.80574061        nan 0.79573597 0.80035703 0.81079891\n",
      "        nan 0.80678967 0.80678967 0.81691541]\n"
     ]
    },
    {
     "data": {
      "text/plain": [
       "{'dt__max_depth': 20, 'dt__min_samples_leaf': 5, 'dt__min_samples_split': 15}"
      ]
     },
     "metadata": {},
     "output_type": "display_data"
    },
    {
     "name": "stdout",
     "output_type": "stream",
     "text": [
      "********************************** Model Metrics **********************************\n"
     ]
    },
    {
     "data": {
      "text/plain": [
       "{'model': 'dt',\n",
       " 'Adjusted R Squared Training': '89.8%',\n",
       " 'Adjusted R Squared Test': '83.7%',\n",
       " 'RMSE Training': '$3,851.81',\n",
       " 'RMSE Test': '$4,871.89'}"
      ]
     },
     "metadata": {},
     "output_type": "display_data"
    }
   ],
   "source": [
    "# Run Decision Tree Regressor.\n",
    "dt = run_model(mod=\"dt\", grid_search=True, mod_params=dt_params)"
   ]
  },
  {
   "cell_type": "markdown",
   "id": "92067f5e-aeb1-4c69-8f89-36f46177f588",
   "metadata": {},
   "source": [
    "### Extra Tree"
   ]
  },
  {
   "cell_type": "code",
   "execution_count": 51,
   "id": "f3c3b8b9-10c8-4839-96af-a8dcb385e469",
   "metadata": {},
   "outputs": [],
   "source": [
    "et_params = {'et__n_estimators': [20, 25, 30, 35],\n",
    "             'et__max_depth': [20, 30, 40, 50],\n",
    "             'et__min_samples_leaf': [2, 3, 4, 5],\n",
    "            }"
   ]
  },
  {
   "cell_type": "code",
   "execution_count": 52,
   "id": "d30d927c-f2aa-4b6c-b285-d14882f9a65f",
   "metadata": {},
   "outputs": [
    {
     "name": "stdout",
     "output_type": "stream",
     "text": [
      "Fitting 10 folds for each of 64 candidates, totalling 640 fits\n",
      "***************************** Best Parameters *************************************\n"
     ]
    },
    {
     "data": {
      "text/plain": [
       "{'et__max_depth': 20, 'et__min_samples_leaf': 4, 'et__n_estimators': 25}"
      ]
     },
     "metadata": {},
     "output_type": "display_data"
    },
    {
     "name": "stdout",
     "output_type": "stream",
     "text": [
      "********************************** Model Metrics **********************************\n"
     ]
    },
    {
     "data": {
      "text/plain": [
       "{'model': 'et',\n",
       " 'Adjusted R Squared Training': '91.4%',\n",
       " 'Adjusted R Squared Test': '86.9%',\n",
       " 'RMSE Training': '$3,536.91',\n",
       " 'RMSE Test': '$4,372.86'}"
      ]
     },
     "metadata": {},
     "output_type": "display_data"
    }
   ],
   "source": [
    "# Run Extra Trees Regressor.\n",
    "et = run_model(mod=\"et\", grid_search=True, mod_params=et_params)"
   ]
  },
  {
   "cell_type": "markdown",
   "id": "8ce6d3d4-5958-482d-9170-ad509ce28c77",
   "metadata": {},
   "source": [
    "### Adaptive Boosting"
   ]
  },
  {
   "cell_type": "code",
   "execution_count": 53,
   "id": "fc8c1a98-93c3-40db-9df9-4defd29d0cca",
   "metadata": {},
   "outputs": [],
   "source": [
    "ada_params = {'ada__n_estimators': [500, 1000],\n",
    "              'ada__learning_rate': [0.9, 1.0],\n",
    "             }"
   ]
  },
  {
   "cell_type": "code",
   "execution_count": 54,
   "id": "c69f35b4-87c1-40e2-b3ab-f2b12b52b772",
   "metadata": {},
   "outputs": [
    {
     "name": "stdout",
     "output_type": "stream",
     "text": [
      "Fitting 10 folds for each of 4 candidates, totalling 40 fits\n",
      "***************************** Best Parameters *************************************\n"
     ]
    },
    {
     "data": {
      "text/plain": [
       "{'ada__learning_rate': 0.9, 'ada__n_estimators': 500}"
      ]
     },
     "metadata": {},
     "output_type": "display_data"
    },
    {
     "name": "stdout",
     "output_type": "stream",
     "text": [
      "********************************** Model Metrics **********************************\n"
     ]
    },
    {
     "data": {
      "text/plain": [
       "{'model': 'ada',\n",
       " 'Adjusted R Squared Training': '84.4%',\n",
       " 'Adjusted R Squared Test': '83.6%',\n",
       " 'RMSE Training': '$4,755.48',\n",
       " 'RMSE Test': '$4,881.62'}"
      ]
     },
     "metadata": {},
     "output_type": "display_data"
    }
   ],
   "source": [
    "# Run Adaptive Boosting.\n",
    "ab = run_model(mod=\"ada\", grid_search=True, mod_params=ada_params)"
   ]
  },
  {
   "cell_type": "markdown",
   "id": "a11bd076-064f-4173-a66b-568f7b7ab18b",
   "metadata": {},
   "source": [
    "### Gradient Boosting"
   ]
  },
  {
   "cell_type": "code",
   "execution_count": 55,
   "id": "14c42c15-edce-4219-bd80-9ab43e06c357",
   "metadata": {},
   "outputs": [],
   "source": [
    "gb_params = {'gb__n_estimators': [500, 1000],\n",
    "             'gb__learning_rate': [0.4, 0.5, 0.6],\n",
    "}"
   ]
  },
  {
   "cell_type": "code",
   "execution_count": 56,
   "id": "08b1f1fb-0519-4f37-b1a5-0cc8e80ef422",
   "metadata": {},
   "outputs": [
    {
     "name": "stdout",
     "output_type": "stream",
     "text": [
      "Fitting 10 folds for each of 6 candidates, totalling 60 fits\n",
      "***************************** Best Parameters *************************************\n"
     ]
    },
    {
     "data": {
      "text/plain": [
       "{'gb__learning_rate': 0.5, 'gb__n_estimators': 500}"
      ]
     },
     "metadata": {},
     "output_type": "display_data"
    },
    {
     "name": "stdout",
     "output_type": "stream",
     "text": [
      "********************************** Model Metrics **********************************\n"
     ]
    },
    {
     "data": {
      "text/plain": [
       "{'model': 'gb',\n",
       " 'Adjusted R Squared Training': '99.6%',\n",
       " 'Adjusted R Squared Test': '77.5%',\n",
       " 'RMSE Training': '$745.38',\n",
       " 'RMSE Test': '$5,715.84'}"
      ]
     },
     "metadata": {},
     "output_type": "display_data"
    }
   ],
   "source": [
    "# Run Gradient Tree Boosting.\n",
    "gb = run_model(mod=\"gb\", grid_search=True, mod_params=gb_params)"
   ]
  },
  {
   "cell_type": "code",
   "execution_count": 57,
   "id": "eaff4625-68f2-4227-a546-1e97ab9e0a7a",
   "metadata": {},
   "outputs": [
    {
     "data": {
      "text/html": [
       "<div>\n",
       "<style scoped>\n",
       "    .dataframe tbody tr th:only-of-type {\n",
       "        vertical-align: middle;\n",
       "    }\n",
       "\n",
       "    .dataframe tbody tr th {\n",
       "        vertical-align: top;\n",
       "    }\n",
       "\n",
       "    .dataframe thead th {\n",
       "        text-align: right;\n",
       "    }\n",
       "</style>\n",
       "<table border=\"1\" class=\"dataframe\">\n",
       "  <thead>\n",
       "    <tr style=\"text-align: right;\">\n",
       "      <th></th>\n",
       "      <th>model</th>\n",
       "      <th>Adjusted R Squared Training</th>\n",
       "      <th>Adjusted R Squared Test</th>\n",
       "      <th>RMSE Training</th>\n",
       "      <th>RMSE Test</th>\n",
       "    </tr>\n",
       "  </thead>\n",
       "  <tbody>\n",
       "    <tr>\n",
       "      <th>4</th>\n",
       "      <td>rf</td>\n",
       "      <td>90.4%</td>\n",
       "      <td>87.0%</td>\n",
       "      <td>$3,740.14</td>\n",
       "      <td>$4,350.04</td>\n",
       "    </tr>\n",
       "    <tr>\n",
       "      <th>6</th>\n",
       "      <td>et</td>\n",
       "      <td>91.4%</td>\n",
       "      <td>86.9%</td>\n",
       "      <td>$3,536.91</td>\n",
       "      <td>$4,372.86</td>\n",
       "    </tr>\n",
       "    <tr>\n",
       "      <th>5</th>\n",
       "      <td>dt</td>\n",
       "      <td>89.8%</td>\n",
       "      <td>83.7%</td>\n",
       "      <td>$3,851.81</td>\n",
       "      <td>$4,871.89</td>\n",
       "    </tr>\n",
       "    <tr>\n",
       "      <th>7</th>\n",
       "      <td>ada</td>\n",
       "      <td>84.4%</td>\n",
       "      <td>83.6%</td>\n",
       "      <td>$4,755.48</td>\n",
       "      <td>$4,881.62</td>\n",
       "    </tr>\n",
       "    <tr>\n",
       "      <th>8</th>\n",
       "      <td>gb</td>\n",
       "      <td>99.6%</td>\n",
       "      <td>77.5%</td>\n",
       "      <td>$745.38</td>\n",
       "      <td>$5,715.84</td>\n",
       "    </tr>\n",
       "    <tr>\n",
       "      <th>0</th>\n",
       "      <td>lr</td>\n",
       "      <td>74.1%</td>\n",
       "      <td>76.8%</td>\n",
       "      <td>$6,139.38</td>\n",
       "      <td>$5,813.45</td>\n",
       "    </tr>\n",
       "    <tr>\n",
       "      <th>2</th>\n",
       "      <td>ls</td>\n",
       "      <td>74.0%</td>\n",
       "      <td>76.8%</td>\n",
       "      <td>$6,141.07</td>\n",
       "      <td>$5,803.83</td>\n",
       "    </tr>\n",
       "    <tr>\n",
       "      <th>3</th>\n",
       "      <td>en</td>\n",
       "      <td>74.1%</td>\n",
       "      <td>76.8%</td>\n",
       "      <td>$6,139.64</td>\n",
       "      <td>$5,813.05</td>\n",
       "    </tr>\n",
       "    <tr>\n",
       "      <th>1</th>\n",
       "      <td>rg</td>\n",
       "      <td>74.0%</td>\n",
       "      <td>76.7%</td>\n",
       "      <td>$6,143.73</td>\n",
       "      <td>$5,817.68</td>\n",
       "    </tr>\n",
       "  </tbody>\n",
       "</table>\n",
       "</div>"
      ],
      "text/plain": [
       "  model Adjusted R Squared Training Adjusted R Squared Test RMSE Training  \\\n",
       "4    rf                       90.4%                   87.0%     $3,740.14   \n",
       "6    et                       91.4%                   86.9%     $3,536.91   \n",
       "5    dt                       89.8%                   83.7%     $3,851.81   \n",
       "7   ada                       84.4%                   83.6%     $4,755.48   \n",
       "8    gb                       99.6%                   77.5%       $745.38   \n",
       "0    lr                       74.1%                   76.8%     $6,139.38   \n",
       "2    ls                       74.0%                   76.8%     $6,141.07   \n",
       "3    en                       74.1%                   76.8%     $6,139.64   \n",
       "1    rg                       74.0%                   76.7%     $6,143.73   \n",
       "\n",
       "   RMSE Test  \n",
       "4  $4,350.04  \n",
       "6  $4,372.86  \n",
       "5  $4,871.89  \n",
       "7  $4,881.62  \n",
       "8  $5,715.84  \n",
       "0  $5,813.45  \n",
       "2  $5,803.83  \n",
       "3  $5,813.05  \n",
       "1  $5,817.68  "
      ]
     },
     "execution_count": 57,
     "metadata": {},
     "output_type": "execute_result"
    }
   ],
   "source": [
    "gs_df = pd.DataFrame(gs_list)\n",
    "gs_df.sort_values(by='Adjusted R Squared Test', ascending=False)"
   ]
  },
  {
   "cell_type": "markdown",
   "id": "8954c7dc-7b1c-417e-989b-2578709d5177",
   "metadata": {},
   "source": [
    "**Observations**:\n",
    "- All models do not have overfitting issues, except Gradient Boosting.\n",
    "- Random Forest has the highest adjusted r squared testing at 87% and lowest RMSE testing at \\$4,350.\n",
    "- Extra Tree has the highest adjusted r squared training score at 91.4%, second highest adjusted r squared testing score at 86.9%, second lowest RMSE training and testing at \\$3,536.91 and \\\\$4,372.86 respectively.\n",
    "- Linear Regression has adjusted r squared training and  testing scores at 74.1% and 76.8% respectively; and RMSE training and testing at \\$6,139.38 and \\\\$5,813.45."
   ]
  },
  {
   "cell_type": "markdown",
   "id": "77bf6b64-24f2-4017-91ea-6b33ea348171",
   "metadata": {},
   "source": [
    "## Final Model"
   ]
  },
  {
   "cell_type": "markdown",
   "id": "d98a98c2-9067-43c6-8f43-a00625580fce",
   "metadata": {},
   "source": [
    "Random Forest is chosen as the final model as Random Forest\n",
    "- is not overfitting;\n",
    "- has highest adjusted r squared testing at 87%;\n",
    "- has lowest RMSE testing at \\$4,350 and third lowest RMSE training at \\\\$3,740, that is lower than that of baseline model."
   ]
  },
  {
   "cell_type": "markdown",
   "id": "6a9221ed-8a55-45dd-a051-26cf5b022552",
   "metadata": {},
   "source": [
    "### Features Importance in Random Forest Modelling"
   ]
  },
  {
   "cell_type": "code",
   "execution_count": 58,
   "id": "5db9a322-20a5-447d-aee3-15e52b26f93d",
   "metadata": {},
   "outputs": [],
   "source": [
    "def run_model(model, mod_params={}):\n",
    "    \n",
    "    # Train model\n",
    "    model.fit(X_train, y_train)\n",
    "    \n",
    "    # Create dataframe table to store attribute and importance\n",
    "    importances = pd.DataFrame(data={'Attribute': X_train.columns, 'Importance': model.feature_importances_})\n",
    "    importances = importances.sort_values(by='Importance', ascending=False)\n",
    "        \n",
    "    # Plot Bar Diagram to show features importance.\n",
    "    plt.bar(x=importances['Attribute'], height=importances['Importance'], color='blue')\n",
    "    plt.title('Random Forest Regressor: Feature Importances obtained from Coefficients', size=20)\n",
    "    plt.xticks(rotation='vertical')\n",
    "    plt.show()"
   ]
  },
  {
   "cell_type": "code",
   "execution_count": 59,
   "id": "8b49fe5d-2aa2-486b-9758-4ceb1ed9d51f",
   "metadata": {},
   "outputs": [],
   "source": [
    "# Instantiate models\n",
    "models = {'rf': RandomForestRegressor(random_state=42)}"
   ]
  },
  {
   "cell_type": "code",
   "execution_count": 60,
   "id": "f0771bce-e287-47ab-9558-9293020f9a02",
   "metadata": {},
   "outputs": [],
   "source": [
    "# Define parameters.\n",
    "rf_params = {'rf__n_estimators': [35],\n",
    "             'rf__max_depth': [20],\n",
    "             'rf__min_samples_leaf': [5],\n",
    "            }"
   ]
  },
  {
   "cell_type": "code",
   "execution_count": 61,
   "id": "7fe67577-9c1a-44d9-8ac4-fd0fa9cc5b65",
   "metadata": {},
   "outputs": [
    {
     "data": {
      "image/png": "[encoded data removed]",
      "text/plain": [
       "<Figure size 432x288 with 1 Axes>"
      ]
     },
     "metadata": {
      "needs_background": "light"
     },
     "output_type": "display_data"
    }
   ],
   "source": [
    "# Run Random Forest.\n",
    "rf = run_model(model = RandomForestRegressor(random_state=42), mod_params=rf_params)"
   ]
  },
  {
   "cell_type": "markdown",
   "id": "9d7ea002-30c7-44e0-974c-b48d73dae51c",
   "metadata": {},
   "source": [
    "**Observation**:\n",
    "- `smoker_yes`, `bmi` and `age` are 3 most important features that help random forest regressor in predicting health insurance premium."
   ]
  },
  {
   "cell_type": "markdown",
   "id": "5345371b-972c-4ab3-9f4a-a9842c4042fd",
   "metadata": {},
   "source": [
    "## 4. Conclusion"
   ]
  },
  {
   "cell_type": "markdown",
   "id": "ffe1e28b-3869-4fe9-9a15-71df1620765f",
   "metadata": {},
   "source": [
    "Random Forest is chosen as the final model as Random Forest\n",
    "- is not overfitting;\n",
    "- has highest adjusted r squared testing at 87%;\n",
    "- has lowest RMSE testing at \\$4,350 and third lowest RMSE training at \\\\$3,740, that is lower than that of baseline model.\n",
    "\n",
    "This model helps to predict health insurance charges."
   ]
  },
  {
   "cell_type": "markdown",
   "id": "e34743d9-bcd7-4a66-b2c8-de9316b8b8ca",
   "metadata": {},
   "source": [
    "# 5. Recommendations"
   ]
  },
  {
   "cell_type": "markdown",
   "id": "bdf229da-6d95-4860-9833-ac1fde04526d",
   "metadata": {},
   "source": [
    "These are the limitations observed:\n",
    "- dataset is small with 7 columns and 1,338 rows;\n",
    "- results generalizability limited to United States;\n",
    "- no information on the source of data, whether it is from one insurance company, a few companies or more; and\n",
    "- Random Forest Regressor model is prone to overfitting because it can keep branching until it memorizes the training data ([source](https://elitedatascience.com/machine-learning-algorithms#regression)).\n",
    "\n",
    "For future improvement, it is recommended to continuous training and improving model with more data."
   ]
  }
 ],
 "metadata": {
  "kernelspec": {
   "display_name": "Python 3 (ipykernel)",
   "language": "python",
   "name": "python3"
  },
  "language_info": {
   "codemirror_mode": {
    "name": "ipython",
    "version": 3
   },
   "file_extension": ".py",
   "mimetype": "text/x-python",
   "name": "python",
   "nbconvert_exporter": "python",
   "pygments_lexer": "ipython3",
   "version": "3.8.13"
  }
 },
 "nbformat": 4,
 "nbformat_minor": 5
}
